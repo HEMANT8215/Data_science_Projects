{
 "cells": [
  {
   "cell_type": "markdown",
   "metadata": {},
   "source": [
    "# AIM: Prediction of Credit card defaulters using decision tree"
   ]
  },
  {
   "cell_type": "code",
   "execution_count": 1,
   "metadata": {},
   "outputs": [],
   "source": [
    "import sys\n",
    "import numpy as np\n",
    "import pandas as pd\n",
    "import matplotlib as mpl\n",
    "import sklearn\n",
    "from sklearn.model_selection import train_test_split\n",
    "from sklearn import tree\n",
    "from sklearn.model_selection import GridSearchCV\n",
    "import matplotlib.pyplot as plt #plotting package\n",
    "%matplotlib inline\n",
    "import matplotlib as mpl #add'l plotting functionality\n",
    "mpl.rcParams['figure.dpi'] = 400 #high res figures\n"
   ]
  },
  {
   "cell_type": "code",
   "execution_count": 2,
   "metadata": {},
   "outputs": [],
   "source": [
    "df = pd.read_excel('default_credit_card.xls')"
   ]
  },
  {
   "cell_type": "code",
   "execution_count": 3,
   "metadata": {},
   "outputs": [
    {
     "data": {
      "text/plain": [
       "(30000, 25)"
      ]
     },
     "execution_count": 3,
     "metadata": {},
     "output_type": "execute_result"
    }
   ],
   "source": [
    "df.shape"
   ]
  },
  {
   "cell_type": "code",
   "execution_count": 4,
   "metadata": {},
   "outputs": [
    {
     "data": {
      "text/plain": [
       "Index(['ID', 'LIMIT_BAL', 'SEX', 'EDUCATION', 'MARRIAGE', 'AGE', 'PAY_0',\n",
       "       'PAY_2', 'PAY_3', 'PAY_4', 'PAY_5', 'PAY_6', 'BILL_AMT1', 'BILL_AMT2',\n",
       "       'BILL_AMT3', 'BILL_AMT4', 'BILL_AMT5', 'BILL_AMT6', 'PAY_AMT1',\n",
       "       'PAY_AMT2', 'PAY_AMT3', 'PAY_AMT4', 'PAY_AMT5', 'PAY_AMT6',\n",
       "       'default payment next month'],\n",
       "      dtype='object')"
      ]
     },
     "execution_count": 4,
     "metadata": {},
     "output_type": "execute_result"
    }
   ],
   "source": [
    "df.columns"
   ]
  },
  {
   "cell_type": "markdown",
   "metadata": {},
   "source": [
    "Variables\n",
    "There are 25 variables:\n",
    "\n",
    "ID: ID of each client\n",
    "\n",
    "LIMIT_BAL: Amount of given credit in NT dollars (includes individual and family/supplementary credit\n",
    "\n",
    "SEX: Gender (1=male, 2=female)\n",
    "\n",
    "EDUCATION: (1=graduate school, 2=university, 3=high school, 4=others, 5=unknown, 6=unknown)\n",
    "\n",
    "MARRIAGE: Marital status (1=married, 2=single, 3=others)\n",
    "\n",
    "AGE: Age in years\n",
    "\n",
    "PAY_0: Repayment status in September, 2005 (-1=pay duly, 1=payment delay for one month, 2=payment delay for two months, ... 8=payment delay for eight months, 9=payment delay for nine months and above)\n",
    "\n",
    "PAY_2: Repayment status in August, 2005 (scale same as above)\n",
    "\n",
    "PAY_3: Repayment status in July, 2005 (scale same as above)\n",
    "\n",
    "PAY_4: Repayment status in June, 2005 (scale same as above)\n",
    "\n",
    "PAY_5: Repayment status in May, 2005 (scale same as above)\n",
    "\n",
    "PAY_6: Repayment status in April, 2005 (scale same as above)\n",
    "\n",
    "BILL_AMT1: Amount of bill statement in September, 2005 (NT dollar)\n",
    "\n",
    "BILL_AMT2: Amount of bill statement in August, 2005 (NT dollar)\n",
    "\n",
    "BILL_AMT3: Amount of bill statement in July, 2005 (NT dollar)\n",
    "\n",
    "BILL_AMT4: Amount of bill statement in June, 2005 (NT dollar)\n",
    "\n",
    "BILL_AMT5: Amount of bill statement in May, 2005 (NT dollar)\n",
    "\n",
    "BILL_AMT6: Amount of bill statement in April, 2005 (NT dollar)\n",
    "\n",
    "PAY_AMT1: Amount of previous payment in September, 2005 (NT dollar)\n",
    "\n",
    "PAY_AMT2: Amount of previous payment in August, 2005 (NT dollar)\n",
    "\n",
    "PAY_AMT3: Amount of previous payment in July, 2005 (NT dollar)\n",
    "\n",
    "PAY_AMT4: Amount of previous payment in June, 2005 (NT dollar)\n",
    "\n",
    "PAY_AMT5: Amount of previous payment in May, 2005 (NT dollar)\n",
    "\n",
    "PAY_AMT6: Amount of previous payment in April, 2005 (NT dollar)\n",
    "\n",
    "default.payment.next.month: Default payment (1=yes, 0=no)\n"
   ]
  },
  {
   "cell_type": "code",
   "execution_count": 5,
   "metadata": {},
   "outputs": [
    {
     "name": "stdout",
     "output_type": "stream",
     "text": [
      "<class 'pandas.core.frame.DataFrame'>\n",
      "RangeIndex: 30000 entries, 0 to 29999\n",
      "Data columns (total 25 columns):\n",
      " #   Column                      Non-Null Count  Dtype \n",
      "---  ------                      --------------  ----- \n",
      " 0   ID                          30000 non-null  object\n",
      " 1   LIMIT_BAL                   30000 non-null  int64 \n",
      " 2   SEX                         30000 non-null  int64 \n",
      " 3   EDUCATION                   30000 non-null  int64 \n",
      " 4   MARRIAGE                    30000 non-null  int64 \n",
      " 5   AGE                         30000 non-null  int64 \n",
      " 6   PAY_0                       30000 non-null  object\n",
      " 7   PAY_2                       30000 non-null  int64 \n",
      " 8   PAY_3                       30000 non-null  int64 \n",
      " 9   PAY_4                       30000 non-null  int64 \n",
      " 10  PAY_5                       30000 non-null  int64 \n",
      " 11  PAY_6                       30000 non-null  int64 \n",
      " 12  BILL_AMT1                   30000 non-null  int64 \n",
      " 13  BILL_AMT2                   30000 non-null  int64 \n",
      " 14  BILL_AMT3                   30000 non-null  int64 \n",
      " 15  BILL_AMT4                   30000 non-null  int64 \n",
      " 16  BILL_AMT5                   30000 non-null  int64 \n",
      " 17  BILL_AMT6                   30000 non-null  int64 \n",
      " 18  PAY_AMT1                    30000 non-null  int64 \n",
      " 19  PAY_AMT2                    30000 non-null  int64 \n",
      " 20  PAY_AMT3                    30000 non-null  int64 \n",
      " 21  PAY_AMT4                    30000 non-null  int64 \n",
      " 22  PAY_AMT5                    30000 non-null  int64 \n",
      " 23  PAY_AMT6                    30000 non-null  int64 \n",
      " 24  default payment next month  30000 non-null  int64 \n",
      "dtypes: int64(23), object(2)\n",
      "memory usage: 5.7+ MB\n"
     ]
    }
   ],
   "source": [
    "df.info()"
   ]
  },
  {
   "cell_type": "code",
   "execution_count": 6,
   "metadata": {},
   "outputs": [
    {
     "data": {
      "text/html": [
       "<div>\n",
       "<style scoped>\n",
       "    .dataframe tbody tr th:only-of-type {\n",
       "        vertical-align: middle;\n",
       "    }\n",
       "\n",
       "    .dataframe tbody tr th {\n",
       "        vertical-align: top;\n",
       "    }\n",
       "\n",
       "    .dataframe thead th {\n",
       "        text-align: right;\n",
       "    }\n",
       "</style>\n",
       "<table border=\"1\" class=\"dataframe\">\n",
       "  <thead>\n",
       "    <tr style=\"text-align: right;\">\n",
       "      <th></th>\n",
       "      <th>ID</th>\n",
       "      <th>LIMIT_BAL</th>\n",
       "      <th>SEX</th>\n",
       "      <th>EDUCATION</th>\n",
       "      <th>MARRIAGE</th>\n",
       "      <th>AGE</th>\n",
       "      <th>PAY_0</th>\n",
       "      <th>PAY_2</th>\n",
       "      <th>PAY_3</th>\n",
       "      <th>PAY_4</th>\n",
       "      <th>...</th>\n",
       "      <th>BILL_AMT4</th>\n",
       "      <th>BILL_AMT5</th>\n",
       "      <th>BILL_AMT6</th>\n",
       "      <th>PAY_AMT1</th>\n",
       "      <th>PAY_AMT2</th>\n",
       "      <th>PAY_AMT3</th>\n",
       "      <th>PAY_AMT4</th>\n",
       "      <th>PAY_AMT5</th>\n",
       "      <th>PAY_AMT6</th>\n",
       "      <th>default payment next month</th>\n",
       "    </tr>\n",
       "  </thead>\n",
       "  <tbody>\n",
       "    <tr>\n",
       "      <th>0</th>\n",
       "      <td>798fc410-45c1</td>\n",
       "      <td>20000</td>\n",
       "      <td>2</td>\n",
       "      <td>2</td>\n",
       "      <td>1</td>\n",
       "      <td>24</td>\n",
       "      <td>2</td>\n",
       "      <td>2</td>\n",
       "      <td>-1</td>\n",
       "      <td>-1</td>\n",
       "      <td>...</td>\n",
       "      <td>0</td>\n",
       "      <td>0</td>\n",
       "      <td>0</td>\n",
       "      <td>0</td>\n",
       "      <td>689</td>\n",
       "      <td>0</td>\n",
       "      <td>0</td>\n",
       "      <td>0</td>\n",
       "      <td>0</td>\n",
       "      <td>1</td>\n",
       "    </tr>\n",
       "    <tr>\n",
       "      <th>1</th>\n",
       "      <td>8a8c8f3b-8eb4</td>\n",
       "      <td>120000</td>\n",
       "      <td>2</td>\n",
       "      <td>2</td>\n",
       "      <td>2</td>\n",
       "      <td>26</td>\n",
       "      <td>-1</td>\n",
       "      <td>2</td>\n",
       "      <td>0</td>\n",
       "      <td>0</td>\n",
       "      <td>...</td>\n",
       "      <td>3272</td>\n",
       "      <td>3455</td>\n",
       "      <td>3261</td>\n",
       "      <td>0</td>\n",
       "      <td>1000</td>\n",
       "      <td>1000</td>\n",
       "      <td>1000</td>\n",
       "      <td>0</td>\n",
       "      <td>2000</td>\n",
       "      <td>1</td>\n",
       "    </tr>\n",
       "    <tr>\n",
       "      <th>2</th>\n",
       "      <td>85698822-43f5</td>\n",
       "      <td>90000</td>\n",
       "      <td>2</td>\n",
       "      <td>2</td>\n",
       "      <td>2</td>\n",
       "      <td>34</td>\n",
       "      <td>0</td>\n",
       "      <td>0</td>\n",
       "      <td>0</td>\n",
       "      <td>0</td>\n",
       "      <td>...</td>\n",
       "      <td>14331</td>\n",
       "      <td>14948</td>\n",
       "      <td>15549</td>\n",
       "      <td>1518</td>\n",
       "      <td>1500</td>\n",
       "      <td>1000</td>\n",
       "      <td>1000</td>\n",
       "      <td>1000</td>\n",
       "      <td>5000</td>\n",
       "      <td>0</td>\n",
       "    </tr>\n",
       "    <tr>\n",
       "      <th>3</th>\n",
       "      <td>0737c11b-be42</td>\n",
       "      <td>50000</td>\n",
       "      <td>2</td>\n",
       "      <td>2</td>\n",
       "      <td>1</td>\n",
       "      <td>37</td>\n",
       "      <td>0</td>\n",
       "      <td>0</td>\n",
       "      <td>0</td>\n",
       "      <td>0</td>\n",
       "      <td>...</td>\n",
       "      <td>28314</td>\n",
       "      <td>28959</td>\n",
       "      <td>29547</td>\n",
       "      <td>2000</td>\n",
       "      <td>2019</td>\n",
       "      <td>1200</td>\n",
       "      <td>1100</td>\n",
       "      <td>1069</td>\n",
       "      <td>1000</td>\n",
       "      <td>0</td>\n",
       "    </tr>\n",
       "    <tr>\n",
       "      <th>4</th>\n",
       "      <td>3b7f77cc-dbc0</td>\n",
       "      <td>50000</td>\n",
       "      <td>1</td>\n",
       "      <td>2</td>\n",
       "      <td>1</td>\n",
       "      <td>57</td>\n",
       "      <td>-1</td>\n",
       "      <td>0</td>\n",
       "      <td>-1</td>\n",
       "      <td>0</td>\n",
       "      <td>...</td>\n",
       "      <td>20940</td>\n",
       "      <td>19146</td>\n",
       "      <td>19131</td>\n",
       "      <td>2000</td>\n",
       "      <td>36681</td>\n",
       "      <td>10000</td>\n",
       "      <td>9000</td>\n",
       "      <td>689</td>\n",
       "      <td>679</td>\n",
       "      <td>0</td>\n",
       "    </tr>\n",
       "  </tbody>\n",
       "</table>\n",
       "<p>5 rows × 25 columns</p>\n",
       "</div>"
      ],
      "text/plain": [
       "              ID  LIMIT_BAL  SEX  EDUCATION  MARRIAGE  AGE PAY_0  PAY_2  \\\n",
       "0  798fc410-45c1      20000    2          2         1   24     2      2   \n",
       "1  8a8c8f3b-8eb4     120000    2          2         2   26    -1      2   \n",
       "2  85698822-43f5      90000    2          2         2   34     0      0   \n",
       "3  0737c11b-be42      50000    2          2         1   37     0      0   \n",
       "4  3b7f77cc-dbc0      50000    1          2         1   57    -1      0   \n",
       "\n",
       "   PAY_3  PAY_4  ...  BILL_AMT4  BILL_AMT5  BILL_AMT6  PAY_AMT1  PAY_AMT2  \\\n",
       "0     -1     -1  ...          0          0          0         0       689   \n",
       "1      0      0  ...       3272       3455       3261         0      1000   \n",
       "2      0      0  ...      14331      14948      15549      1518      1500   \n",
       "3      0      0  ...      28314      28959      29547      2000      2019   \n",
       "4     -1      0  ...      20940      19146      19131      2000     36681   \n",
       "\n",
       "   PAY_AMT3  PAY_AMT4  PAY_AMT5  PAY_AMT6  default payment next month  \n",
       "0         0         0         0         0                           1  \n",
       "1      1000      1000         0      2000                           1  \n",
       "2      1000      1000      1000      5000                           0  \n",
       "3      1200      1100      1069      1000                           0  \n",
       "4     10000      9000       689       679                           0  \n",
       "\n",
       "[5 rows x 25 columns]"
      ]
     },
     "execution_count": 6,
     "metadata": {},
     "output_type": "execute_result"
    }
   ],
   "source": [
    "df.head()"
   ]
  },
  {
   "cell_type": "markdown",
   "metadata": {},
   "source": [
    "# Cleaning data "
   ]
  },
  {
   "cell_type": "code",
   "execution_count": 7,
   "metadata": {},
   "outputs": [],
   "source": [
    "df = df.rename(columns={'default payment next month': 'def_pay', 'PAY_0':'PAY_1'})"
   ]
  },
  {
   "cell_type": "code",
   "execution_count": 8,
   "metadata": {
    "scrolled": true
   },
   "outputs": [
    {
     "data": {
      "text/html": [
       "<div>\n",
       "<style scoped>\n",
       "    .dataframe tbody tr th:only-of-type {\n",
       "        vertical-align: middle;\n",
       "    }\n",
       "\n",
       "    .dataframe tbody tr th {\n",
       "        vertical-align: top;\n",
       "    }\n",
       "\n",
       "    .dataframe thead th {\n",
       "        text-align: right;\n",
       "    }\n",
       "</style>\n",
       "<table border=\"1\" class=\"dataframe\">\n",
       "  <thead>\n",
       "    <tr style=\"text-align: right;\">\n",
       "      <th></th>\n",
       "      <th>ID</th>\n",
       "      <th>LIMIT_BAL</th>\n",
       "      <th>SEX</th>\n",
       "      <th>EDUCATION</th>\n",
       "      <th>MARRIAGE</th>\n",
       "      <th>AGE</th>\n",
       "      <th>PAY_1</th>\n",
       "      <th>PAY_2</th>\n",
       "      <th>PAY_3</th>\n",
       "      <th>PAY_4</th>\n",
       "      <th>...</th>\n",
       "      <th>BILL_AMT4</th>\n",
       "      <th>BILL_AMT5</th>\n",
       "      <th>BILL_AMT6</th>\n",
       "      <th>PAY_AMT1</th>\n",
       "      <th>PAY_AMT2</th>\n",
       "      <th>PAY_AMT3</th>\n",
       "      <th>PAY_AMT4</th>\n",
       "      <th>PAY_AMT5</th>\n",
       "      <th>PAY_AMT6</th>\n",
       "      <th>def_pay</th>\n",
       "    </tr>\n",
       "  </thead>\n",
       "  <tbody>\n",
       "    <tr>\n",
       "      <th>0</th>\n",
       "      <td>798fc410-45c1</td>\n",
       "      <td>20000</td>\n",
       "      <td>2</td>\n",
       "      <td>2</td>\n",
       "      <td>1</td>\n",
       "      <td>24</td>\n",
       "      <td>2</td>\n",
       "      <td>2</td>\n",
       "      <td>-1</td>\n",
       "      <td>-1</td>\n",
       "      <td>...</td>\n",
       "      <td>0</td>\n",
       "      <td>0</td>\n",
       "      <td>0</td>\n",
       "      <td>0</td>\n",
       "      <td>689</td>\n",
       "      <td>0</td>\n",
       "      <td>0</td>\n",
       "      <td>0</td>\n",
       "      <td>0</td>\n",
       "      <td>1</td>\n",
       "    </tr>\n",
       "    <tr>\n",
       "      <th>1</th>\n",
       "      <td>8a8c8f3b-8eb4</td>\n",
       "      <td>120000</td>\n",
       "      <td>2</td>\n",
       "      <td>2</td>\n",
       "      <td>2</td>\n",
       "      <td>26</td>\n",
       "      <td>-1</td>\n",
       "      <td>2</td>\n",
       "      <td>0</td>\n",
       "      <td>0</td>\n",
       "      <td>...</td>\n",
       "      <td>3272</td>\n",
       "      <td>3455</td>\n",
       "      <td>3261</td>\n",
       "      <td>0</td>\n",
       "      <td>1000</td>\n",
       "      <td>1000</td>\n",
       "      <td>1000</td>\n",
       "      <td>0</td>\n",
       "      <td>2000</td>\n",
       "      <td>1</td>\n",
       "    </tr>\n",
       "    <tr>\n",
       "      <th>2</th>\n",
       "      <td>85698822-43f5</td>\n",
       "      <td>90000</td>\n",
       "      <td>2</td>\n",
       "      <td>2</td>\n",
       "      <td>2</td>\n",
       "      <td>34</td>\n",
       "      <td>0</td>\n",
       "      <td>0</td>\n",
       "      <td>0</td>\n",
       "      <td>0</td>\n",
       "      <td>...</td>\n",
       "      <td>14331</td>\n",
       "      <td>14948</td>\n",
       "      <td>15549</td>\n",
       "      <td>1518</td>\n",
       "      <td>1500</td>\n",
       "      <td>1000</td>\n",
       "      <td>1000</td>\n",
       "      <td>1000</td>\n",
       "      <td>5000</td>\n",
       "      <td>0</td>\n",
       "    </tr>\n",
       "    <tr>\n",
       "      <th>3</th>\n",
       "      <td>0737c11b-be42</td>\n",
       "      <td>50000</td>\n",
       "      <td>2</td>\n",
       "      <td>2</td>\n",
       "      <td>1</td>\n",
       "      <td>37</td>\n",
       "      <td>0</td>\n",
       "      <td>0</td>\n",
       "      <td>0</td>\n",
       "      <td>0</td>\n",
       "      <td>...</td>\n",
       "      <td>28314</td>\n",
       "      <td>28959</td>\n",
       "      <td>29547</td>\n",
       "      <td>2000</td>\n",
       "      <td>2019</td>\n",
       "      <td>1200</td>\n",
       "      <td>1100</td>\n",
       "      <td>1069</td>\n",
       "      <td>1000</td>\n",
       "      <td>0</td>\n",
       "    </tr>\n",
       "    <tr>\n",
       "      <th>4</th>\n",
       "      <td>3b7f77cc-dbc0</td>\n",
       "      <td>50000</td>\n",
       "      <td>1</td>\n",
       "      <td>2</td>\n",
       "      <td>1</td>\n",
       "      <td>57</td>\n",
       "      <td>-1</td>\n",
       "      <td>0</td>\n",
       "      <td>-1</td>\n",
       "      <td>0</td>\n",
       "      <td>...</td>\n",
       "      <td>20940</td>\n",
       "      <td>19146</td>\n",
       "      <td>19131</td>\n",
       "      <td>2000</td>\n",
       "      <td>36681</td>\n",
       "      <td>10000</td>\n",
       "      <td>9000</td>\n",
       "      <td>689</td>\n",
       "      <td>679</td>\n",
       "      <td>0</td>\n",
       "    </tr>\n",
       "  </tbody>\n",
       "</table>\n",
       "<p>5 rows × 25 columns</p>\n",
       "</div>"
      ],
      "text/plain": [
       "              ID  LIMIT_BAL  SEX  EDUCATION  MARRIAGE  AGE PAY_1  PAY_2  \\\n",
       "0  798fc410-45c1      20000    2          2         1   24     2      2   \n",
       "1  8a8c8f3b-8eb4     120000    2          2         2   26    -1      2   \n",
       "2  85698822-43f5      90000    2          2         2   34     0      0   \n",
       "3  0737c11b-be42      50000    2          2         1   37     0      0   \n",
       "4  3b7f77cc-dbc0      50000    1          2         1   57    -1      0   \n",
       "\n",
       "   PAY_3  PAY_4  ...  BILL_AMT4  BILL_AMT5  BILL_AMT6  PAY_AMT1  PAY_AMT2  \\\n",
       "0     -1     -1  ...          0          0          0         0       689   \n",
       "1      0      0  ...       3272       3455       3261         0      1000   \n",
       "2      0      0  ...      14331      14948      15549      1518      1500   \n",
       "3      0      0  ...      28314      28959      29547      2000      2019   \n",
       "4     -1      0  ...      20940      19146      19131      2000     36681   \n",
       "\n",
       "   PAY_AMT3  PAY_AMT4  PAY_AMT5  PAY_AMT6  def_pay  \n",
       "0         0         0         0         0        1  \n",
       "1      1000      1000         0      2000        1  \n",
       "2      1000      1000      1000      5000        0  \n",
       "3      1200      1100      1069      1000        0  \n",
       "4     10000      9000       689       679        0  \n",
       "\n",
       "[5 rows x 25 columns]"
      ]
     },
     "execution_count": 8,
     "metadata": {},
     "output_type": "execute_result"
    }
   ],
   "source": [
    "df.head()"
   ]
  },
  {
   "cell_type": "markdown",
   "metadata": {},
   "source": [
    "# Removing duplicate ID"
   ]
  },
  {
   "cell_type": "code",
   "execution_count": 9,
   "metadata": {},
   "outputs": [
    {
     "data": {
      "text/plain": [
       "29687"
      ]
     },
     "execution_count": 9,
     "metadata": {},
     "output_type": "execute_result"
    }
   ],
   "source": [
    "df['ID'].nunique()"
   ]
  },
  {
   "cell_type": "code",
   "execution_count": 10,
   "metadata": {
    "scrolled": true
   },
   "outputs": [
    {
     "data": {
      "text/plain": [
       "85bd7f39-2e9b    2\n",
       "3367c92b-b1ca    2\n",
       "20b16b21-8b23    2\n",
       "b87bf8f3-d704    2\n",
       "5f38afd8-e138    2\n",
       "Name: ID, dtype: int64"
      ]
     },
     "execution_count": 10,
     "metadata": {},
     "output_type": "execute_result"
    }
   ],
   "source": [
    "id_counts = df['ID'].value_counts()\n",
    "id_counts.head()"
   ]
  },
  {
   "cell_type": "code",
   "execution_count": 11,
   "metadata": {},
   "outputs": [
    {
     "data": {
      "text/plain": [
       "1    29374\n",
       "2      313\n",
       "Name: ID, dtype: int64"
      ]
     },
     "execution_count": 11,
     "metadata": {},
     "output_type": "execute_result"
    }
   ],
   "source": [
    "id_counts.value_counts() # duplicate id "
   ]
  },
  {
   "cell_type": "code",
   "execution_count": 12,
   "metadata": {},
   "outputs": [],
   "source": [
    "dupe_mask = id_counts == 2"
   ]
  },
  {
   "cell_type": "code",
   "execution_count": 13,
   "metadata": {},
   "outputs": [
    {
     "data": {
      "text/plain": [
       "85bd7f39-2e9b     True\n",
       "3367c92b-b1ca     True\n",
       "20b16b21-8b23     True\n",
       "b87bf8f3-d704     True\n",
       "5f38afd8-e138     True\n",
       "                 ...  \n",
       "2fd2ed22-5231    False\n",
       "f3c07a94-b4f3    False\n",
       "e8937b57-4ea3    False\n",
       "1ced690e-dcfa    False\n",
       "d156bf5e-541c    False\n",
       "Name: ID, Length: 29687, dtype: bool"
      ]
     },
     "execution_count": 13,
     "metadata": {},
     "output_type": "execute_result"
    }
   ],
   "source": [
    "dupe_mask"
   ]
  },
  {
   "cell_type": "code",
   "execution_count": 14,
   "metadata": {},
   "outputs": [
    {
     "data": {
      "text/plain": [
       "Index(['85bd7f39-2e9b', '3367c92b-b1ca', '20b16b21-8b23', 'b87bf8f3-d704',\n",
       "       '5f38afd8-e138'],\n",
       "      dtype='object')"
      ]
     },
     "execution_count": 14,
     "metadata": {},
     "output_type": "execute_result"
    }
   ],
   "source": [
    "id_counts.index[0:5]"
   ]
  },
  {
   "cell_type": "code",
   "execution_count": 15,
   "metadata": {},
   "outputs": [],
   "source": [
    "dupe_ids = id_counts.index[dupe_mask]"
   ]
  },
  {
   "cell_type": "code",
   "execution_count": 16,
   "metadata": {},
   "outputs": [
    {
     "data": {
      "text/plain": [
       "313"
      ]
     },
     "execution_count": 16,
     "metadata": {},
     "output_type": "execute_result"
    }
   ],
   "source": [
    "dupe_ids = list(dupe_ids)\n",
    "len(dupe_ids)"
   ]
  },
  {
   "cell_type": "code",
   "execution_count": 17,
   "metadata": {},
   "outputs": [
    {
     "data": {
      "text/plain": [
       "['85bd7f39-2e9b',\n",
       " '3367c92b-b1ca',\n",
       " '20b16b21-8b23',\n",
       " 'b87bf8f3-d704',\n",
       " '5f38afd8-e138']"
      ]
     },
     "execution_count": 17,
     "metadata": {},
     "output_type": "execute_result"
    }
   ],
   "source": [
    "dupe_ids[0:5]"
   ]
  },
  {
   "cell_type": "code",
   "execution_count": 18,
   "metadata": {},
   "outputs": [
    {
     "data": {
      "text/html": [
       "<div>\n",
       "<style scoped>\n",
       "    .dataframe tbody tr th:only-of-type {\n",
       "        vertical-align: middle;\n",
       "    }\n",
       "\n",
       "    .dataframe tbody tr th {\n",
       "        vertical-align: top;\n",
       "    }\n",
       "\n",
       "    .dataframe thead th {\n",
       "        text-align: right;\n",
       "    }\n",
       "</style>\n",
       "<table border=\"1\" class=\"dataframe\">\n",
       "  <thead>\n",
       "    <tr style=\"text-align: right;\">\n",
       "      <th></th>\n",
       "      <th>ID</th>\n",
       "      <th>LIMIT_BAL</th>\n",
       "      <th>SEX</th>\n",
       "      <th>EDUCATION</th>\n",
       "      <th>MARRIAGE</th>\n",
       "      <th>AGE</th>\n",
       "      <th>PAY_1</th>\n",
       "      <th>PAY_2</th>\n",
       "      <th>PAY_3</th>\n",
       "      <th>PAY_4</th>\n",
       "      <th>...</th>\n",
       "      <th>BILL_AMT4</th>\n",
       "      <th>BILL_AMT5</th>\n",
       "      <th>BILL_AMT6</th>\n",
       "      <th>PAY_AMT1</th>\n",
       "      <th>PAY_AMT2</th>\n",
       "      <th>PAY_AMT3</th>\n",
       "      <th>PAY_AMT4</th>\n",
       "      <th>PAY_AMT5</th>\n",
       "      <th>PAY_AMT6</th>\n",
       "      <th>def_pay</th>\n",
       "    </tr>\n",
       "  </thead>\n",
       "  <tbody>\n",
       "    <tr>\n",
       "      <th>2593</th>\n",
       "      <td>3367c92b-b1ca</td>\n",
       "      <td>90000</td>\n",
       "      <td>2</td>\n",
       "      <td>6</td>\n",
       "      <td>2</td>\n",
       "      <td>49</td>\n",
       "      <td>-1</td>\n",
       "      <td>-1</td>\n",
       "      <td>-2</td>\n",
       "      <td>-2</td>\n",
       "      <td>...</td>\n",
       "      <td>0</td>\n",
       "      <td>0</td>\n",
       "      <td>0</td>\n",
       "      <td>0</td>\n",
       "      <td>0</td>\n",
       "      <td>0</td>\n",
       "      <td>0</td>\n",
       "      <td>0</td>\n",
       "      <td>11135</td>\n",
       "      <td>0</td>\n",
       "    </tr>\n",
       "    <tr>\n",
       "      <th>2693</th>\n",
       "      <td>3367c92b-b1ca</td>\n",
       "      <td>0</td>\n",
       "      <td>0</td>\n",
       "      <td>0</td>\n",
       "      <td>0</td>\n",
       "      <td>0</td>\n",
       "      <td>0</td>\n",
       "      <td>0</td>\n",
       "      <td>0</td>\n",
       "      <td>0</td>\n",
       "      <td>...</td>\n",
       "      <td>0</td>\n",
       "      <td>0</td>\n",
       "      <td>0</td>\n",
       "      <td>0</td>\n",
       "      <td>0</td>\n",
       "      <td>0</td>\n",
       "      <td>0</td>\n",
       "      <td>0</td>\n",
       "      <td>0</td>\n",
       "      <td>0</td>\n",
       "    </tr>\n",
       "    <tr>\n",
       "      <th>7070</th>\n",
       "      <td>5f38afd8-e138</td>\n",
       "      <td>80000</td>\n",
       "      <td>1</td>\n",
       "      <td>1</td>\n",
       "      <td>1</td>\n",
       "      <td>40</td>\n",
       "      <td>0</td>\n",
       "      <td>0</td>\n",
       "      <td>2</td>\n",
       "      <td>2</td>\n",
       "      <td>...</td>\n",
       "      <td>30787</td>\n",
       "      <td>34513</td>\n",
       "      <td>34995</td>\n",
       "      <td>3600</td>\n",
       "      <td>1200</td>\n",
       "      <td>0</td>\n",
       "      <td>4246</td>\n",
       "      <td>1200</td>\n",
       "      <td>1500</td>\n",
       "      <td>1</td>\n",
       "    </tr>\n",
       "    <tr>\n",
       "      <th>7170</th>\n",
       "      <td>5f38afd8-e138</td>\n",
       "      <td>0</td>\n",
       "      <td>0</td>\n",
       "      <td>0</td>\n",
       "      <td>0</td>\n",
       "      <td>0</td>\n",
       "      <td>0</td>\n",
       "      <td>0</td>\n",
       "      <td>0</td>\n",
       "      <td>0</td>\n",
       "      <td>...</td>\n",
       "      <td>0</td>\n",
       "      <td>0</td>\n",
       "      <td>0</td>\n",
       "      <td>0</td>\n",
       "      <td>0</td>\n",
       "      <td>0</td>\n",
       "      <td>0</td>\n",
       "      <td>0</td>\n",
       "      <td>0</td>\n",
       "      <td>0</td>\n",
       "    </tr>\n",
       "    <tr>\n",
       "      <th>13186</th>\n",
       "      <td>20b16b21-8b23</td>\n",
       "      <td>750000</td>\n",
       "      <td>2</td>\n",
       "      <td>1</td>\n",
       "      <td>2</td>\n",
       "      <td>28</td>\n",
       "      <td>1</td>\n",
       "      <td>-1</td>\n",
       "      <td>-1</td>\n",
       "      <td>0</td>\n",
       "      <td>...</td>\n",
       "      <td>399493</td>\n",
       "      <td>400993</td>\n",
       "      <td>409483</td>\n",
       "      <td>250000</td>\n",
       "      <td>401003</td>\n",
       "      <td>7990</td>\n",
       "      <td>11000</td>\n",
       "      <td>417990</td>\n",
       "      <td>3080</td>\n",
       "      <td>0</td>\n",
       "    </tr>\n",
       "    <tr>\n",
       "      <th>13286</th>\n",
       "      <td>20b16b21-8b23</td>\n",
       "      <td>0</td>\n",
       "      <td>0</td>\n",
       "      <td>0</td>\n",
       "      <td>0</td>\n",
       "      <td>0</td>\n",
       "      <td>0</td>\n",
       "      <td>0</td>\n",
       "      <td>0</td>\n",
       "      <td>0</td>\n",
       "      <td>...</td>\n",
       "      <td>0</td>\n",
       "      <td>0</td>\n",
       "      <td>0</td>\n",
       "      <td>0</td>\n",
       "      <td>0</td>\n",
       "      <td>0</td>\n",
       "      <td>0</td>\n",
       "      <td>0</td>\n",
       "      <td>0</td>\n",
       "      <td>0</td>\n",
       "    </tr>\n",
       "    <tr>\n",
       "      <th>21230</th>\n",
       "      <td>b87bf8f3-d704</td>\n",
       "      <td>50000</td>\n",
       "      <td>1</td>\n",
       "      <td>1</td>\n",
       "      <td>2</td>\n",
       "      <td>32</td>\n",
       "      <td>0</td>\n",
       "      <td>0</td>\n",
       "      <td>0</td>\n",
       "      <td>0</td>\n",
       "      <td>...</td>\n",
       "      <td>49827</td>\n",
       "      <td>48930</td>\n",
       "      <td>48748</td>\n",
       "      <td>1773</td>\n",
       "      <td>2110</td>\n",
       "      <td>2324</td>\n",
       "      <td>2000</td>\n",
       "      <td>1920</td>\n",
       "      <td>2000</td>\n",
       "      <td>0</td>\n",
       "    </tr>\n",
       "    <tr>\n",
       "      <th>21330</th>\n",
       "      <td>b87bf8f3-d704</td>\n",
       "      <td>0</td>\n",
       "      <td>0</td>\n",
       "      <td>0</td>\n",
       "      <td>0</td>\n",
       "      <td>0</td>\n",
       "      <td>0</td>\n",
       "      <td>0</td>\n",
       "      <td>0</td>\n",
       "      <td>0</td>\n",
       "      <td>...</td>\n",
       "      <td>0</td>\n",
       "      <td>0</td>\n",
       "      <td>0</td>\n",
       "      <td>0</td>\n",
       "      <td>0</td>\n",
       "      <td>0</td>\n",
       "      <td>0</td>\n",
       "      <td>0</td>\n",
       "      <td>0</td>\n",
       "      <td>0</td>\n",
       "    </tr>\n",
       "    <tr>\n",
       "      <th>26223</th>\n",
       "      <td>85bd7f39-2e9b</td>\n",
       "      <td>400000</td>\n",
       "      <td>2</td>\n",
       "      <td>1</td>\n",
       "      <td>1</td>\n",
       "      <td>28</td>\n",
       "      <td>-1</td>\n",
       "      <td>-1</td>\n",
       "      <td>-1</td>\n",
       "      <td>-1</td>\n",
       "      <td>...</td>\n",
       "      <td>4049</td>\n",
       "      <td>4566</td>\n",
       "      <td>2578</td>\n",
       "      <td>211</td>\n",
       "      <td>4188</td>\n",
       "      <td>4061</td>\n",
       "      <td>4586</td>\n",
       "      <td>12</td>\n",
       "      <td>3837</td>\n",
       "      <td>0</td>\n",
       "    </tr>\n",
       "    <tr>\n",
       "      <th>26323</th>\n",
       "      <td>85bd7f39-2e9b</td>\n",
       "      <td>0</td>\n",
       "      <td>0</td>\n",
       "      <td>0</td>\n",
       "      <td>0</td>\n",
       "      <td>0</td>\n",
       "      <td>0</td>\n",
       "      <td>0</td>\n",
       "      <td>0</td>\n",
       "      <td>0</td>\n",
       "      <td>...</td>\n",
       "      <td>0</td>\n",
       "      <td>0</td>\n",
       "      <td>0</td>\n",
       "      <td>0</td>\n",
       "      <td>0</td>\n",
       "      <td>0</td>\n",
       "      <td>0</td>\n",
       "      <td>0</td>\n",
       "      <td>0</td>\n",
       "      <td>0</td>\n",
       "    </tr>\n",
       "  </tbody>\n",
       "</table>\n",
       "<p>10 rows × 25 columns</p>\n",
       "</div>"
      ],
      "text/plain": [
       "                  ID  LIMIT_BAL  SEX  EDUCATION  MARRIAGE  AGE PAY_1  PAY_2  \\\n",
       "2593   3367c92b-b1ca      90000    2          6         2   49    -1     -1   \n",
       "2693   3367c92b-b1ca          0    0          0         0    0     0      0   \n",
       "7070   5f38afd8-e138      80000    1          1         1   40     0      0   \n",
       "7170   5f38afd8-e138          0    0          0         0    0     0      0   \n",
       "13186  20b16b21-8b23     750000    2          1         2   28     1     -1   \n",
       "13286  20b16b21-8b23          0    0          0         0    0     0      0   \n",
       "21230  b87bf8f3-d704      50000    1          1         2   32     0      0   \n",
       "21330  b87bf8f3-d704          0    0          0         0    0     0      0   \n",
       "26223  85bd7f39-2e9b     400000    2          1         1   28    -1     -1   \n",
       "26323  85bd7f39-2e9b          0    0          0         0    0     0      0   \n",
       "\n",
       "       PAY_3  PAY_4  ...  BILL_AMT4  BILL_AMT5  BILL_AMT6  PAY_AMT1  PAY_AMT2  \\\n",
       "2593      -2     -2  ...          0          0          0         0         0   \n",
       "2693       0      0  ...          0          0          0         0         0   \n",
       "7070       2      2  ...      30787      34513      34995      3600      1200   \n",
       "7170       0      0  ...          0          0          0         0         0   \n",
       "13186     -1      0  ...     399493     400993     409483    250000    401003   \n",
       "13286      0      0  ...          0          0          0         0         0   \n",
       "21230      0      0  ...      49827      48930      48748      1773      2110   \n",
       "21330      0      0  ...          0          0          0         0         0   \n",
       "26223     -1     -1  ...       4049       4566       2578       211      4188   \n",
       "26323      0      0  ...          0          0          0         0         0   \n",
       "\n",
       "       PAY_AMT3  PAY_AMT4  PAY_AMT5  PAY_AMT6  def_pay  \n",
       "2593          0         0         0     11135        0  \n",
       "2693          0         0         0         0        0  \n",
       "7070          0      4246      1200      1500        1  \n",
       "7170          0         0         0         0        0  \n",
       "13186      7990     11000    417990      3080        0  \n",
       "13286         0         0         0         0        0  \n",
       "21230      2324      2000      1920      2000        0  \n",
       "21330         0         0         0         0        0  \n",
       "26223      4061      4586        12      3837        0  \n",
       "26323         0         0         0         0        0  \n",
       "\n",
       "[10 rows x 25 columns]"
      ]
     },
     "execution_count": 18,
     "metadata": {},
     "output_type": "execute_result"
    }
   ],
   "source": [
    "df.loc[df['ID'].isin(dupe_ids[0:5]),:]"
   ]
  },
  {
   "cell_type": "code",
   "execution_count": 19,
   "metadata": {},
   "outputs": [],
   "source": [
    "df_zero_mask = df == 0 ### other row of evey duplicate id has 0 values "
   ]
  },
  {
   "cell_type": "code",
   "execution_count": 20,
   "metadata": {},
   "outputs": [
    {
     "data": {
      "text/html": [
       "<div>\n",
       "<style scoped>\n",
       "    .dataframe tbody tr th:only-of-type {\n",
       "        vertical-align: middle;\n",
       "    }\n",
       "\n",
       "    .dataframe tbody tr th {\n",
       "        vertical-align: top;\n",
       "    }\n",
       "\n",
       "    .dataframe thead th {\n",
       "        text-align: right;\n",
       "    }\n",
       "</style>\n",
       "<table border=\"1\" class=\"dataframe\">\n",
       "  <thead>\n",
       "    <tr style=\"text-align: right;\">\n",
       "      <th></th>\n",
       "      <th>ID</th>\n",
       "      <th>LIMIT_BAL</th>\n",
       "      <th>SEX</th>\n",
       "      <th>EDUCATION</th>\n",
       "      <th>MARRIAGE</th>\n",
       "      <th>AGE</th>\n",
       "      <th>PAY_1</th>\n",
       "      <th>PAY_2</th>\n",
       "      <th>PAY_3</th>\n",
       "      <th>PAY_4</th>\n",
       "      <th>...</th>\n",
       "      <th>BILL_AMT4</th>\n",
       "      <th>BILL_AMT5</th>\n",
       "      <th>BILL_AMT6</th>\n",
       "      <th>PAY_AMT1</th>\n",
       "      <th>PAY_AMT2</th>\n",
       "      <th>PAY_AMT3</th>\n",
       "      <th>PAY_AMT4</th>\n",
       "      <th>PAY_AMT5</th>\n",
       "      <th>PAY_AMT6</th>\n",
       "      <th>def_pay</th>\n",
       "    </tr>\n",
       "  </thead>\n",
       "  <tbody>\n",
       "    <tr>\n",
       "      <th>0</th>\n",
       "      <td>False</td>\n",
       "      <td>False</td>\n",
       "      <td>False</td>\n",
       "      <td>False</td>\n",
       "      <td>False</td>\n",
       "      <td>False</td>\n",
       "      <td>False</td>\n",
       "      <td>False</td>\n",
       "      <td>False</td>\n",
       "      <td>False</td>\n",
       "      <td>...</td>\n",
       "      <td>True</td>\n",
       "      <td>True</td>\n",
       "      <td>True</td>\n",
       "      <td>True</td>\n",
       "      <td>False</td>\n",
       "      <td>True</td>\n",
       "      <td>True</td>\n",
       "      <td>True</td>\n",
       "      <td>True</td>\n",
       "      <td>False</td>\n",
       "    </tr>\n",
       "    <tr>\n",
       "      <th>1</th>\n",
       "      <td>False</td>\n",
       "      <td>False</td>\n",
       "      <td>False</td>\n",
       "      <td>False</td>\n",
       "      <td>False</td>\n",
       "      <td>False</td>\n",
       "      <td>False</td>\n",
       "      <td>False</td>\n",
       "      <td>True</td>\n",
       "      <td>True</td>\n",
       "      <td>...</td>\n",
       "      <td>False</td>\n",
       "      <td>False</td>\n",
       "      <td>False</td>\n",
       "      <td>True</td>\n",
       "      <td>False</td>\n",
       "      <td>False</td>\n",
       "      <td>False</td>\n",
       "      <td>True</td>\n",
       "      <td>False</td>\n",
       "      <td>False</td>\n",
       "    </tr>\n",
       "    <tr>\n",
       "      <th>2</th>\n",
       "      <td>False</td>\n",
       "      <td>False</td>\n",
       "      <td>False</td>\n",
       "      <td>False</td>\n",
       "      <td>False</td>\n",
       "      <td>False</td>\n",
       "      <td>True</td>\n",
       "      <td>True</td>\n",
       "      <td>True</td>\n",
       "      <td>True</td>\n",
       "      <td>...</td>\n",
       "      <td>False</td>\n",
       "      <td>False</td>\n",
       "      <td>False</td>\n",
       "      <td>False</td>\n",
       "      <td>False</td>\n",
       "      <td>False</td>\n",
       "      <td>False</td>\n",
       "      <td>False</td>\n",
       "      <td>False</td>\n",
       "      <td>True</td>\n",
       "    </tr>\n",
       "    <tr>\n",
       "      <th>3</th>\n",
       "      <td>False</td>\n",
       "      <td>False</td>\n",
       "      <td>False</td>\n",
       "      <td>False</td>\n",
       "      <td>False</td>\n",
       "      <td>False</td>\n",
       "      <td>True</td>\n",
       "      <td>True</td>\n",
       "      <td>True</td>\n",
       "      <td>True</td>\n",
       "      <td>...</td>\n",
       "      <td>False</td>\n",
       "      <td>False</td>\n",
       "      <td>False</td>\n",
       "      <td>False</td>\n",
       "      <td>False</td>\n",
       "      <td>False</td>\n",
       "      <td>False</td>\n",
       "      <td>False</td>\n",
       "      <td>False</td>\n",
       "      <td>True</td>\n",
       "    </tr>\n",
       "    <tr>\n",
       "      <th>4</th>\n",
       "      <td>False</td>\n",
       "      <td>False</td>\n",
       "      <td>False</td>\n",
       "      <td>False</td>\n",
       "      <td>False</td>\n",
       "      <td>False</td>\n",
       "      <td>False</td>\n",
       "      <td>True</td>\n",
       "      <td>False</td>\n",
       "      <td>True</td>\n",
       "      <td>...</td>\n",
       "      <td>False</td>\n",
       "      <td>False</td>\n",
       "      <td>False</td>\n",
       "      <td>False</td>\n",
       "      <td>False</td>\n",
       "      <td>False</td>\n",
       "      <td>False</td>\n",
       "      <td>False</td>\n",
       "      <td>False</td>\n",
       "      <td>True</td>\n",
       "    </tr>\n",
       "  </tbody>\n",
       "</table>\n",
       "<p>5 rows × 25 columns</p>\n",
       "</div>"
      ],
      "text/plain": [
       "      ID  LIMIT_BAL    SEX  EDUCATION  MARRIAGE    AGE  PAY_1  PAY_2  PAY_3  \\\n",
       "0  False      False  False      False     False  False  False  False  False   \n",
       "1  False      False  False      False     False  False  False  False   True   \n",
       "2  False      False  False      False     False  False   True   True   True   \n",
       "3  False      False  False      False     False  False   True   True   True   \n",
       "4  False      False  False      False     False  False  False   True  False   \n",
       "\n",
       "   PAY_4  ...  BILL_AMT4  BILL_AMT5  BILL_AMT6  PAY_AMT1  PAY_AMT2  PAY_AMT3  \\\n",
       "0  False  ...       True       True       True      True     False      True   \n",
       "1   True  ...      False      False      False      True     False     False   \n",
       "2   True  ...      False      False      False     False     False     False   \n",
       "3   True  ...      False      False      False     False     False     False   \n",
       "4   True  ...      False      False      False     False     False     False   \n",
       "\n",
       "   PAY_AMT4  PAY_AMT5  PAY_AMT6  def_pay  \n",
       "0      True      True      True    False  \n",
       "1     False      True     False    False  \n",
       "2     False     False     False     True  \n",
       "3     False     False     False     True  \n",
       "4     False     False     False     True  \n",
       "\n",
       "[5 rows x 25 columns]"
      ]
     },
     "execution_count": 20,
     "metadata": {},
     "output_type": "execute_result"
    }
   ],
   "source": [
    "df_zero_mask.head()"
   ]
  },
  {
   "cell_type": "code",
   "execution_count": 21,
   "metadata": {},
   "outputs": [
    {
     "data": {
      "text/plain": [
       "(30000, 25)"
      ]
     },
     "execution_count": 21,
     "metadata": {},
     "output_type": "execute_result"
    }
   ],
   "source": [
    "df_zero_mask.shape"
   ]
  },
  {
   "cell_type": "code",
   "execution_count": 22,
   "metadata": {},
   "outputs": [],
   "source": [
    "feature_zero_mask = df_zero_mask.iloc[:,1:].all(axis=1)"
   ]
  },
  {
   "cell_type": "code",
   "execution_count": 23,
   "metadata": {},
   "outputs": [
    {
     "data": {
      "text/plain": [
       "0    False\n",
       "1    False\n",
       "2    False\n",
       "3    False\n",
       "4    False\n",
       "dtype: bool"
      ]
     },
     "execution_count": 23,
     "metadata": {},
     "output_type": "execute_result"
    }
   ],
   "source": [
    "feature_zero_mask.head()"
   ]
  },
  {
   "cell_type": "code",
   "execution_count": 24,
   "metadata": {},
   "outputs": [
    {
     "data": {
      "text/plain": [
       "315"
      ]
     },
     "execution_count": 24,
     "metadata": {},
     "output_type": "execute_result"
    }
   ],
   "source": [
    "sum(feature_zero_mask)"
   ]
  },
  {
   "cell_type": "code",
   "execution_count": 25,
   "metadata": {},
   "outputs": [],
   "source": [
    "df_clean_1 = df.loc[~feature_zero_mask,:]"
   ]
  },
  {
   "cell_type": "code",
   "execution_count": 26,
   "metadata": {},
   "outputs": [
    {
     "data": {
      "text/plain": [
       "(29685, 25)"
      ]
     },
     "execution_count": 26,
     "metadata": {},
     "output_type": "execute_result"
    }
   ],
   "source": [
    "df_clean_1.shape"
   ]
  },
  {
   "cell_type": "code",
   "execution_count": 27,
   "metadata": {},
   "outputs": [
    {
     "data": {
      "text/plain": [
       "29685"
      ]
     },
     "execution_count": 27,
     "metadata": {},
     "output_type": "execute_result"
    }
   ],
   "source": [
    "df_clean_1['ID'].nunique()"
   ]
  },
  {
   "cell_type": "code",
   "execution_count": 28,
   "metadata": {},
   "outputs": [
    {
     "name": "stdout",
     "output_type": "stream",
     "text": [
      "<class 'pandas.core.frame.DataFrame'>\n",
      "Int64Index: 29685 entries, 0 to 29999\n",
      "Data columns (total 25 columns):\n",
      " #   Column     Non-Null Count  Dtype \n",
      "---  ------     --------------  ----- \n",
      " 0   ID         29685 non-null  object\n",
      " 1   LIMIT_BAL  29685 non-null  int64 \n",
      " 2   SEX        29685 non-null  int64 \n",
      " 3   EDUCATION  29685 non-null  int64 \n",
      " 4   MARRIAGE   29685 non-null  int64 \n",
      " 5   AGE        29685 non-null  int64 \n",
      " 6   PAY_1      29685 non-null  object\n",
      " 7   PAY_2      29685 non-null  int64 \n",
      " 8   PAY_3      29685 non-null  int64 \n",
      " 9   PAY_4      29685 non-null  int64 \n",
      " 10  PAY_5      29685 non-null  int64 \n",
      " 11  PAY_6      29685 non-null  int64 \n",
      " 12  BILL_AMT1  29685 non-null  int64 \n",
      " 13  BILL_AMT2  29685 non-null  int64 \n",
      " 14  BILL_AMT3  29685 non-null  int64 \n",
      " 15  BILL_AMT4  29685 non-null  int64 \n",
      " 16  BILL_AMT5  29685 non-null  int64 \n",
      " 17  BILL_AMT6  29685 non-null  int64 \n",
      " 18  PAY_AMT1   29685 non-null  int64 \n",
      " 19  PAY_AMT2   29685 non-null  int64 \n",
      " 20  PAY_AMT3   29685 non-null  int64 \n",
      " 21  PAY_AMT4   29685 non-null  int64 \n",
      " 22  PAY_AMT5   29685 non-null  int64 \n",
      " 23  PAY_AMT6   29685 non-null  int64 \n",
      " 24  def_pay    29685 non-null  int64 \n",
      "dtypes: int64(23), object(2)\n",
      "memory usage: 5.9+ MB\n"
     ]
    }
   ],
   "source": [
    "df_clean_1.info()"
   ]
  },
  {
   "cell_type": "code",
   "execution_count": 29,
   "metadata": {
    "scrolled": true
   },
   "outputs": [
    {
     "data": {
      "text/html": [
       "<div>\n",
       "<style scoped>\n",
       "    .dataframe tbody tr th:only-of-type {\n",
       "        vertical-align: middle;\n",
       "    }\n",
       "\n",
       "    .dataframe tbody tr th {\n",
       "        vertical-align: top;\n",
       "    }\n",
       "\n",
       "    .dataframe thead th {\n",
       "        text-align: right;\n",
       "    }\n",
       "</style>\n",
       "<table border=\"1\" class=\"dataframe\">\n",
       "  <thead>\n",
       "    <tr style=\"text-align: right;\">\n",
       "      <th></th>\n",
       "      <th>ID</th>\n",
       "      <th>LIMIT_BAL</th>\n",
       "      <th>SEX</th>\n",
       "      <th>EDUCATION</th>\n",
       "      <th>MARRIAGE</th>\n",
       "      <th>AGE</th>\n",
       "      <th>PAY_1</th>\n",
       "      <th>PAY_2</th>\n",
       "      <th>PAY_3</th>\n",
       "      <th>PAY_4</th>\n",
       "      <th>...</th>\n",
       "      <th>BILL_AMT4</th>\n",
       "      <th>BILL_AMT5</th>\n",
       "      <th>BILL_AMT6</th>\n",
       "      <th>PAY_AMT1</th>\n",
       "      <th>PAY_AMT2</th>\n",
       "      <th>PAY_AMT3</th>\n",
       "      <th>PAY_AMT4</th>\n",
       "      <th>PAY_AMT5</th>\n",
       "      <th>PAY_AMT6</th>\n",
       "      <th>def_pay</th>\n",
       "    </tr>\n",
       "  </thead>\n",
       "  <tbody>\n",
       "    <tr>\n",
       "      <th>0</th>\n",
       "      <td>798fc410-45c1</td>\n",
       "      <td>20000</td>\n",
       "      <td>2</td>\n",
       "      <td>2</td>\n",
       "      <td>1</td>\n",
       "      <td>24</td>\n",
       "      <td>2</td>\n",
       "      <td>2</td>\n",
       "      <td>-1</td>\n",
       "      <td>-1</td>\n",
       "      <td>...</td>\n",
       "      <td>0</td>\n",
       "      <td>0</td>\n",
       "      <td>0</td>\n",
       "      <td>0</td>\n",
       "      <td>689</td>\n",
       "      <td>0</td>\n",
       "      <td>0</td>\n",
       "      <td>0</td>\n",
       "      <td>0</td>\n",
       "      <td>1</td>\n",
       "    </tr>\n",
       "    <tr>\n",
       "      <th>1</th>\n",
       "      <td>8a8c8f3b-8eb4</td>\n",
       "      <td>120000</td>\n",
       "      <td>2</td>\n",
       "      <td>2</td>\n",
       "      <td>2</td>\n",
       "      <td>26</td>\n",
       "      <td>-1</td>\n",
       "      <td>2</td>\n",
       "      <td>0</td>\n",
       "      <td>0</td>\n",
       "      <td>...</td>\n",
       "      <td>3272</td>\n",
       "      <td>3455</td>\n",
       "      <td>3261</td>\n",
       "      <td>0</td>\n",
       "      <td>1000</td>\n",
       "      <td>1000</td>\n",
       "      <td>1000</td>\n",
       "      <td>0</td>\n",
       "      <td>2000</td>\n",
       "      <td>1</td>\n",
       "    </tr>\n",
       "    <tr>\n",
       "      <th>2</th>\n",
       "      <td>85698822-43f5</td>\n",
       "      <td>90000</td>\n",
       "      <td>2</td>\n",
       "      <td>2</td>\n",
       "      <td>2</td>\n",
       "      <td>34</td>\n",
       "      <td>0</td>\n",
       "      <td>0</td>\n",
       "      <td>0</td>\n",
       "      <td>0</td>\n",
       "      <td>...</td>\n",
       "      <td>14331</td>\n",
       "      <td>14948</td>\n",
       "      <td>15549</td>\n",
       "      <td>1518</td>\n",
       "      <td>1500</td>\n",
       "      <td>1000</td>\n",
       "      <td>1000</td>\n",
       "      <td>1000</td>\n",
       "      <td>5000</td>\n",
       "      <td>0</td>\n",
       "    </tr>\n",
       "    <tr>\n",
       "      <th>3</th>\n",
       "      <td>0737c11b-be42</td>\n",
       "      <td>50000</td>\n",
       "      <td>2</td>\n",
       "      <td>2</td>\n",
       "      <td>1</td>\n",
       "      <td>37</td>\n",
       "      <td>0</td>\n",
       "      <td>0</td>\n",
       "      <td>0</td>\n",
       "      <td>0</td>\n",
       "      <td>...</td>\n",
       "      <td>28314</td>\n",
       "      <td>28959</td>\n",
       "      <td>29547</td>\n",
       "      <td>2000</td>\n",
       "      <td>2019</td>\n",
       "      <td>1200</td>\n",
       "      <td>1100</td>\n",
       "      <td>1069</td>\n",
       "      <td>1000</td>\n",
       "      <td>0</td>\n",
       "    </tr>\n",
       "    <tr>\n",
       "      <th>4</th>\n",
       "      <td>3b7f77cc-dbc0</td>\n",
       "      <td>50000</td>\n",
       "      <td>1</td>\n",
       "      <td>2</td>\n",
       "      <td>1</td>\n",
       "      <td>57</td>\n",
       "      <td>-1</td>\n",
       "      <td>0</td>\n",
       "      <td>-1</td>\n",
       "      <td>0</td>\n",
       "      <td>...</td>\n",
       "      <td>20940</td>\n",
       "      <td>19146</td>\n",
       "      <td>19131</td>\n",
       "      <td>2000</td>\n",
       "      <td>36681</td>\n",
       "      <td>10000</td>\n",
       "      <td>9000</td>\n",
       "      <td>689</td>\n",
       "      <td>679</td>\n",
       "      <td>0</td>\n",
       "    </tr>\n",
       "  </tbody>\n",
       "</table>\n",
       "<p>5 rows × 25 columns</p>\n",
       "</div>"
      ],
      "text/plain": [
       "              ID  LIMIT_BAL  SEX  EDUCATION  MARRIAGE  AGE PAY_1  PAY_2  \\\n",
       "0  798fc410-45c1      20000    2          2         1   24     2      2   \n",
       "1  8a8c8f3b-8eb4     120000    2          2         2   26    -1      2   \n",
       "2  85698822-43f5      90000    2          2         2   34     0      0   \n",
       "3  0737c11b-be42      50000    2          2         1   37     0      0   \n",
       "4  3b7f77cc-dbc0      50000    1          2         1   57    -1      0   \n",
       "\n",
       "   PAY_3  PAY_4  ...  BILL_AMT4  BILL_AMT5  BILL_AMT6  PAY_AMT1  PAY_AMT2  \\\n",
       "0     -1     -1  ...          0          0          0         0       689   \n",
       "1      0      0  ...       3272       3455       3261         0      1000   \n",
       "2      0      0  ...      14331      14948      15549      1518      1500   \n",
       "3      0      0  ...      28314      28959      29547      2000      2019   \n",
       "4     -1      0  ...      20940      19146      19131      2000     36681   \n",
       "\n",
       "   PAY_AMT3  PAY_AMT4  PAY_AMT5  PAY_AMT6  def_pay  \n",
       "0         0         0         0         0        1  \n",
       "1      1000      1000         0      2000        1  \n",
       "2      1000      1000      1000      5000        0  \n",
       "3      1200      1100      1069      1000        0  \n",
       "4     10000      9000       689       679        0  \n",
       "\n",
       "[5 rows x 25 columns]"
      ]
     },
     "execution_count": 29,
     "metadata": {},
     "output_type": "execute_result"
    }
   ],
   "source": [
    "df_clean_1.head()"
   ]
  },
  {
   "cell_type": "code",
   "execution_count": 30,
   "metadata": {
    "scrolled": true
   },
   "outputs": [
    {
     "data": {
      "text/plain": [
       "0                13087\n",
       "-1                5047\n",
       "1                 3261\n",
       "Not available     3021\n",
       "-2                2476\n",
       "2                 2378\n",
       "3                  292\n",
       "4                   63\n",
       "5                   23\n",
       "8                   17\n",
       "6                   11\n",
       "7                    9\n",
       "Name: PAY_1, dtype: int64"
      ]
     },
     "execution_count": 30,
     "metadata": {},
     "output_type": "execute_result"
    }
   ],
   "source": [
    "df_clean_1['PAY_1'].value_counts()"
   ]
  },
  {
   "cell_type": "code",
   "execution_count": 31,
   "metadata": {},
   "outputs": [
    {
     "data": {
      "text/plain": [
       " 0    15563\n",
       "-1     5989\n",
       " 2     3878\n",
       "-2     3746\n",
       " 3      325\n",
       " 4       99\n",
       " 1       28\n",
       " 5       24\n",
       " 7       20\n",
       " 6       12\n",
       " 8        1\n",
       "Name: PAY_2, dtype: int64"
      ]
     },
     "execution_count": 31,
     "metadata": {},
     "output_type": "execute_result"
    }
   ],
   "source": [
    "df_clean_1['PAY_2'].value_counts()"
   ]
  },
  {
   "cell_type": "code",
   "execution_count": 32,
   "metadata": {
    "scrolled": true
   },
   "outputs": [
    {
     "data": {
      "text/plain": [
       " 0    15599\n",
       "-1     5869\n",
       "-2     4046\n",
       " 2     3782\n",
       " 3      237\n",
       " 4       74\n",
       " 7       27\n",
       " 6       23\n",
       " 5       21\n",
       " 1        4\n",
       " 8        3\n",
       "Name: PAY_3, dtype: int64"
      ]
     },
     "execution_count": 32,
     "metadata": {},
     "output_type": "execute_result"
    }
   ],
   "source": [
    "df_clean_1['PAY_3'].value_counts()"
   ]
  },
  {
   "cell_type": "code",
   "execution_count": 33,
   "metadata": {},
   "outputs": [
    {
     "data": {
      "text/plain": [
       " 0    16285\n",
       "-1     5624\n",
       "-2     4309\n",
       " 2     3121\n",
       " 3      180\n",
       " 4       66\n",
       " 7       57\n",
       " 5       34\n",
       " 6        5\n",
       " 8        2\n",
       " 1        2\n",
       "Name: PAY_4, dtype: int64"
      ]
     },
     "execution_count": 33,
     "metadata": {},
     "output_type": "execute_result"
    }
   ],
   "source": [
    "df_clean_1['PAY_4'].value_counts()"
   ]
  },
  {
   "cell_type": "markdown",
   "metadata": {},
   "source": [
    "###removing 'Not avaibale' in PAY_1 column"
   ]
  },
  {
   "cell_type": "code",
   "execution_count": 34,
   "metadata": {},
   "outputs": [],
   "source": [
    "valid_pay_1_mask = df_clean_1['PAY_1'] != 'Not available'"
   ]
  },
  {
   "cell_type": "code",
   "execution_count": 35,
   "metadata": {},
   "outputs": [
    {
     "data": {
      "text/plain": [
       "0    True\n",
       "1    True\n",
       "2    True\n",
       "3    True\n",
       "4    True\n",
       "Name: PAY_1, dtype: bool"
      ]
     },
     "execution_count": 35,
     "metadata": {},
     "output_type": "execute_result"
    }
   ],
   "source": [
    "valid_pay_1_mask.head()"
   ]
  },
  {
   "cell_type": "code",
   "execution_count": 36,
   "metadata": {},
   "outputs": [],
   "source": [
    "df_clean_2 = df_clean_1.loc[valid_pay_1_mask,:].copy()"
   ]
  },
  {
   "cell_type": "code",
   "execution_count": 37,
   "metadata": {},
   "outputs": [
    {
     "data": {
      "text/plain": [
       "(26664, 25)"
      ]
     },
     "execution_count": 37,
     "metadata": {},
     "output_type": "execute_result"
    }
   ],
   "source": [
    "df_clean_2.shape"
   ]
  },
  {
   "cell_type": "code",
   "execution_count": 38,
   "metadata": {},
   "outputs": [
    {
     "data": {
      "text/plain": [
       " 0    13087\n",
       "-1     5047\n",
       " 1     3261\n",
       "-2     2476\n",
       " 2     2378\n",
       " 3      292\n",
       " 4       63\n",
       " 5       23\n",
       " 8       17\n",
       " 6       11\n",
       " 7        9\n",
       "Name: PAY_1, dtype: int64"
      ]
     },
     "execution_count": 38,
     "metadata": {},
     "output_type": "execute_result"
    }
   ],
   "source": [
    "df_clean_2['PAY_1'].value_counts()"
   ]
  },
  {
   "cell_type": "code",
   "execution_count": 39,
   "metadata": {},
   "outputs": [],
   "source": [
    "df_clean_2['PAY_1'] = df_clean_2['PAY_1'].astype('int64')"
   ]
  },
  {
   "cell_type": "markdown",
   "metadata": {},
   "source": [
    "# EDUCATION column ## (1=graduate school, 2=university, 3=high school, 4=others, 5=unknown, 6=unknown)"
   ]
  },
  {
   "cell_type": "code",
   "execution_count": 40,
   "metadata": {
    "scrolled": true
   },
   "outputs": [
    {
     "data": {
      "text/plain": [
       "2    12458\n",
       "1     9412\n",
       "3     4380\n",
       "5      245\n",
       "4      115\n",
       "6       43\n",
       "0       11\n",
       "Name: EDUCATION, dtype: int64"
      ]
     },
     "execution_count": 40,
     "metadata": {},
     "output_type": "execute_result"
    }
   ],
   "source": [
    "df_clean_2['EDUCATION'].value_counts()"
   ]
  },
  {
   "cell_type": "code",
   "execution_count": 41,
   "metadata": {},
   "outputs": [
    {
     "data": {
      "text/plain": [
       "2    12458\n",
       "1     9412\n",
       "3     4380\n",
       "4      414\n",
       "Name: EDUCATION, dtype: int64"
      ]
     },
     "execution_count": 41,
     "metadata": {},
     "output_type": "execute_result"
    }
   ],
   "source": [
    "fil = (df.EDUCATION == 5) | (df.EDUCATION == 6) | (df.EDUCATION == 0)\n",
    "df_clean_2.loc[fil, 'EDUCATION'] = 4\n",
    "df_clean_2['EDUCATION'].value_counts()"
   ]
  },
  {
   "cell_type": "markdown",
   "metadata": {},
   "source": [
    "# MARRIAGE: Marital status (1=married, 2=single, 3=others)"
   ]
  },
  {
   "cell_type": "code",
   "execution_count": 42,
   "metadata": {},
   "outputs": [],
   "source": [
    "df_clean = df_clean_2"
   ]
  },
  {
   "cell_type": "code",
   "execution_count": 43,
   "metadata": {},
   "outputs": [
    {
     "data": {
      "text/plain": [
       "2    14158\n",
       "1    12172\n",
       "3      286\n",
       "0       48\n",
       "Name: MARRIAGE, dtype: int64"
      ]
     },
     "execution_count": 43,
     "metadata": {},
     "output_type": "execute_result"
    }
   ],
   "source": [
    "df_clean['MARRIAGE'].value_counts()"
   ]
  },
  {
   "cell_type": "code",
   "execution_count": 44,
   "metadata": {},
   "outputs": [
    {
     "data": {
      "text/plain": [
       "2    14158\n",
       "1    12172\n",
       "3      334\n",
       "Name: MARRIAGE, dtype: int64"
      ]
     },
     "execution_count": 44,
     "metadata": {},
     "output_type": "execute_result"
    }
   ],
   "source": [
    "fil = (df.MARRIAGE == 0) \n",
    "df_clean.loc[fil, 'MARRIAGE'] = 3\n",
    "df_clean['MARRIAGE'].value_counts()"
   ]
  },
  {
   "cell_type": "markdown",
   "metadata": {},
   "source": [
    "# PAY_: Repayment status in September, 2005 (-1=pay duly, 1=payment delay for one month, 2=payment delay for two months, ... 8=payment delay for eight months, 9=payment delay for nine months and above)"
   ]
  },
  {
   "cell_type": "code",
   "execution_count": 45,
   "metadata": {},
   "outputs": [],
   "source": [
    "fil = (df.PAY_1 == -2) | (df.PAY_1 == -1) | (df.PAY_1 == 0)\n",
    "df_clean.loc[fil, 'PAY_1'] = 0\n",
    "fil = (df.PAY_2 == -2) | (df.PAY_2 == -1) | (df.PAY_2 == 0)\n",
    "df_clean.loc[fil, 'PAY_2'] = 0\n",
    "fil = (df.PAY_3 == -2) | (df.PAY_3 == -1) | (df.PAY_3 == 0)\n",
    "df_clean.loc[fil, 'PAY_3'] = 0\n",
    "fil = (df.PAY_4 == -2) | (df.PAY_4 == -1) | (df.PAY_4 == 0)\n",
    "df_clean.loc[fil, 'PAY_4'] = 0\n",
    "fil = (df.PAY_5 == -2) | (df.PAY_5 == -1) | (df.PAY_5 == 0)\n",
    "df_clean.loc[fil, 'PAY_5'] = 0\n",
    "fil = (df.PAY_6 == -2) | (df.PAY_6 == -1) | (df.PAY_6 == 0)\n",
    "df_clean.loc[fil, 'PAY_6'] = 0"
   ]
  },
  {
   "cell_type": "code",
   "execution_count": 46,
   "metadata": {},
   "outputs": [
    {
     "data": {
      "text/plain": [
       "0    20610\n",
       "1     3261\n",
       "2     2378\n",
       "3      292\n",
       "4       63\n",
       "5       23\n",
       "8       17\n",
       "6       11\n",
       "7        9\n",
       "Name: PAY_1, dtype: int64"
      ]
     },
     "execution_count": 46,
     "metadata": {},
     "output_type": "execute_result"
    }
   ],
   "source": [
    "df_clean['PAY_1'].value_counts()"
   ]
  },
  {
   "cell_type": "code",
   "execution_count": 47,
   "metadata": {
    "scrolled": true
   },
   "outputs": [
    {
     "data": {
      "text/plain": [
       "0    22704\n",
       "2     3509\n",
       "3      289\n",
       "4       85\n",
       "5       24\n",
       "1       24\n",
       "7       17\n",
       "6       11\n",
       "8        1\n",
       "Name: PAY_2, dtype: int64"
      ]
     },
     "execution_count": 47,
     "metadata": {},
     "output_type": "execute_result"
    }
   ],
   "source": [
    "df_clean['PAY_2'].value_counts()"
   ]
  },
  {
   "cell_type": "code",
   "execution_count": 48,
   "metadata": {},
   "outputs": [
    {
     "data": {
      "text/plain": [
       "0    22912\n",
       "2     3400\n",
       "3      214\n",
       "4       69\n",
       "7       24\n",
       "5       20\n",
       "6       19\n",
       "8        3\n",
       "1        3\n",
       "Name: PAY_3, dtype: int64"
      ]
     },
     "execution_count": 48,
     "metadata": {},
     "output_type": "execute_result"
    }
   ],
   "source": [
    "df_clean['PAY_3'].value_counts()"
   ]
  },
  {
   "cell_type": "markdown",
   "metadata": {},
   "source": [
    "# Feature Engineering"
   ]
  },
  {
   "cell_type": "code",
   "execution_count": 49,
   "metadata": {},
   "outputs": [
    {
     "data": {
      "text/html": [
       "<div>\n",
       "<style scoped>\n",
       "    .dataframe tbody tr th:only-of-type {\n",
       "        vertical-align: middle;\n",
       "    }\n",
       "\n",
       "    .dataframe tbody tr th {\n",
       "        vertical-align: top;\n",
       "    }\n",
       "\n",
       "    .dataframe thead th {\n",
       "        text-align: right;\n",
       "    }\n",
       "</style>\n",
       "<table border=\"1\" class=\"dataframe\">\n",
       "  <thead>\n",
       "    <tr style=\"text-align: right;\">\n",
       "      <th></th>\n",
       "      <th>SE_MA</th>\n",
       "      <th>def_pay</th>\n",
       "    </tr>\n",
       "  </thead>\n",
       "  <tbody>\n",
       "    <tr>\n",
       "      <th>SE_MA</th>\n",
       "      <td>1.000000</td>\n",
       "      <td>-0.045152</td>\n",
       "    </tr>\n",
       "    <tr>\n",
       "      <th>def_pay</th>\n",
       "      <td>-0.045152</td>\n",
       "      <td>1.000000</td>\n",
       "    </tr>\n",
       "  </tbody>\n",
       "</table>\n",
       "</div>"
      ],
      "text/plain": [
       "            SE_MA   def_pay\n",
       "SE_MA    1.000000 -0.045152\n",
       "def_pay -0.045152  1.000000"
      ]
     },
     "execution_count": 49,
     "metadata": {},
     "output_type": "execute_result"
    }
   ],
   "source": [
    "df_clean['SE_MA'] = df_clean.SEX * df_clean.MARRIAGE\n",
    "df_clean[['SE_MA','def_pay']].corr()"
   ]
  },
  {
   "cell_type": "code",
   "execution_count": 50,
   "metadata": {},
   "outputs": [],
   "source": [
    "df_clean['SE_MA'] = 0\n",
    "df_clean.loc[((df.SEX == 1) & (df_clean.MARRIAGE == 1)) , 'SE_MA'] = 1 #married man\n",
    "df_clean.loc[((df.SEX == 1) & (df_clean.MARRIAGE == 2)) , 'SE_MA'] = 2 #single man\n",
    "df_clean.loc[((df.SEX == 1) & (df_clean.MARRIAGE == 3)) , 'SE_MA'] = 3 #divorced man\n",
    "df_clean.loc[((df.SEX == 2) & (df_clean.MARRIAGE == 1)) , 'SE_MA'] = 4 #married woman\n",
    "df_clean.loc[((df.SEX == 2) & (df_clean.MARRIAGE == 2)) , 'SE_MA'] = 5 #single woman\n",
    "df_clean.loc[((df.SEX == 2) & (df_clean.MARRIAGE == 3)) , 'SE_MA'] = 6 #divorced woman"
   ]
  },
  {
   "cell_type": "code",
   "execution_count": 51,
   "metadata": {},
   "outputs": [],
   "source": [
    "df = df_clean"
   ]
  },
  {
   "cell_type": "code",
   "execution_count": 52,
   "metadata": {},
   "outputs": [
    {
     "data": {
      "text/plain": [
       "<matplotlib.axes._subplots.AxesSubplot at 0x1a26aa5810>"
      ]
     },
     "execution_count": 52,
     "metadata": {},
     "output_type": "execute_result"
    },
    {
     "data": {
      "image/png": "[encoded data removed]",
      "text/plain": [
       "<Figure size 2400x1600 with 1 Axes>"
      ]
     },
     "metadata": {
      "needs_background": "light"
     },
     "output_type": "display_data"
    }
   ],
   "source": [
    "df['AgeBin'] = 0 #creates a column of 0\n",
    "df.loc[((df['AGE'] > 20) & (df['AGE'] < 30)) , 'AgeBin'] = 1\n",
    "df.loc[((df['AGE'] >= 30) & (df['AGE'] < 40)) , 'AgeBin'] = 2\n",
    "df.loc[((df['AGE'] >= 40) & (df['AGE'] < 50)) , 'AgeBin'] = 3\n",
    "df.loc[((df['AGE'] >= 50) & (df['AGE'] < 60)) , 'AgeBin'] = 4\n",
    "df.loc[((df['AGE'] >= 60) & (df['AGE'] < 70)) , 'AgeBin'] = 5\n",
    "df.loc[((df['AGE'] >= 70) & (df['AGE'] < 81)) , 'AgeBin'] = 6\n",
    "df.AgeBin.hist()"
   ]
  },
  {
   "cell_type": "code",
   "execution_count": 53,
   "metadata": {},
   "outputs": [
    {
     "data": {
      "text/plain": [
       "ID           0\n",
       "LIMIT_BAL    0\n",
       "SEX          0\n",
       "EDUCATION    0\n",
       "MARRIAGE     0\n",
       "AGE          0\n",
       "PAY_1        0\n",
       "PAY_2        0\n",
       "PAY_3        0\n",
       "PAY_4        0\n",
       "PAY_5        0\n",
       "PAY_6        0\n",
       "BILL_AMT1    0\n",
       "BILL_AMT2    0\n",
       "BILL_AMT3    0\n",
       "BILL_AMT4    0\n",
       "BILL_AMT5    0\n",
       "BILL_AMT6    0\n",
       "PAY_AMT1     0\n",
       "PAY_AMT2     0\n",
       "PAY_AMT3     0\n",
       "PAY_AMT4     0\n",
       "PAY_AMT5     0\n",
       "PAY_AMT6     0\n",
       "def_pay      0\n",
       "SE_MA        0\n",
       "AgeBin       0\n",
       "dtype: int64"
      ]
     },
     "execution_count": 53,
     "metadata": {},
     "output_type": "execute_result"
    }
   ],
   "source": [
    "df.isnull().sum()"
   ]
  },
  {
   "cell_type": "code",
   "execution_count": 54,
   "metadata": {},
   "outputs": [
    {
     "data": {
      "text/plain": [
       "6    23716\n",
       "5    24200\n",
       "4    24496\n",
       "3    24698\n",
       "2    25043\n",
       "1    26192\n",
       "dtype: int64"
      ]
     },
     "execution_count": 54,
     "metadata": {},
     "output_type": "execute_result"
    }
   ],
   "source": [
    "df['Client_6'] = 1\n",
    "df['Client_5'] = 1\n",
    "df['Client_4'] = 1\n",
    "df['Client_3'] = 1\n",
    "df['Client_2'] = 1\n",
    "df['Client_1'] = 1\n",
    "df.loc[((df.PAY_6 == 0) & (df.BILL_AMT6 == 0) & (df.PAY_AMT6 == 0)) , 'Client_6'] = 0\n",
    "df.loc[((df.PAY_5 == 0) & (df.BILL_AMT5 == 0) & (df.PAY_AMT5 == 0)) , 'Client_5'] = 0\n",
    "df.loc[((df.PAY_4 == 0) & (df.BILL_AMT4 == 0) & (df.PAY_AMT4 == 0)) , 'Client_4'] = 0\n",
    "df.loc[((df.PAY_3 == 0) & (df.BILL_AMT3 == 0) & (df.PAY_AMT3 == 0)) , 'Client_3'] = 0\n",
    "df.loc[((df.PAY_2 == 0) & (df.BILL_AMT2 == 0) & (df.PAY_AMT2 == 0)) , 'Client_2'] = 0\n",
    "df.loc[((df.PAY_1 == 0) & (df.BILL_AMT1 == 0) & (df.PAY_AMT1 == 0)) , 'Client_1'] = 0\n",
    "pd.Series([df[df.Client_6 == 1].def_pay.count(),\n",
    "          df[df.Client_5 == 1].def_pay.count(),\n",
    "          df[df.Client_4 == 1].def_pay.count(),\n",
    "          df[df.Client_3 == 1].def_pay.count(),\n",
    "          df[df.Client_2 == 1].def_pay.count(),\n",
    "          df[df.Client_1 == 1].def_pay.count()], [6,5,4,3,2,1])"
   ]
  },
  {
   "cell_type": "code",
   "execution_count": 55,
   "metadata": {},
   "outputs": [
    {
     "data": {
      "text/html": [
       "<div>\n",
       "<style scoped>\n",
       "    .dataframe tbody tr th:only-of-type {\n",
       "        vertical-align: middle;\n",
       "    }\n",
       "\n",
       "    .dataframe tbody tr th {\n",
       "        vertical-align: top;\n",
       "    }\n",
       "\n",
       "    .dataframe thead th {\n",
       "        text-align: right;\n",
       "    }\n",
       "</style>\n",
       "<table border=\"1\" class=\"dataframe\">\n",
       "  <thead>\n",
       "    <tr style=\"text-align: right;\">\n",
       "      <th></th>\n",
       "      <th>LIMIT_BAL</th>\n",
       "      <th>Avg_exp_5</th>\n",
       "      <th>BILL_AMT5</th>\n",
       "      <th>Avg_exp_4</th>\n",
       "      <th>BILL_AMT4</th>\n",
       "      <th>Avg_exp_3</th>\n",
       "      <th>BILL_AMT3</th>\n",
       "      <th>Avg_exp_2</th>\n",
       "      <th>BILL_AMT2</th>\n",
       "      <th>Avg_exp_1</th>\n",
       "      <th>BILL_AMT1</th>\n",
       "      <th>def_pay</th>\n",
       "    </tr>\n",
       "  </thead>\n",
       "  <tbody>\n",
       "    <tr>\n",
       "      <th>19380</th>\n",
       "      <td>300000</td>\n",
       "      <td>0.026720</td>\n",
       "      <td>8016</td>\n",
       "      <td>0.043462</td>\n",
       "      <td>18061</td>\n",
       "      <td>0.045039</td>\n",
       "      <td>14458</td>\n",
       "      <td>0.061200</td>\n",
       "      <td>32905</td>\n",
       "      <td>0.063595</td>\n",
       "      <td>21953</td>\n",
       "      <td>0</td>\n",
       "    </tr>\n",
       "    <tr>\n",
       "      <th>12977</th>\n",
       "      <td>160000</td>\n",
       "      <td>0.009806</td>\n",
       "      <td>120714</td>\n",
       "      <td>0.010041</td>\n",
       "      <td>122358</td>\n",
       "      <td>0.013010</td>\n",
       "      <td>110390</td>\n",
       "      <td>0.011861</td>\n",
       "      <td>105536</td>\n",
       "      <td>0.011059</td>\n",
       "      <td>102292</td>\n",
       "      <td>0</td>\n",
       "    </tr>\n",
       "    <tr>\n",
       "      <th>10641</th>\n",
       "      <td>120000</td>\n",
       "      <td>0.006808</td>\n",
       "      <td>32261</td>\n",
       "      <td>0.010200</td>\n",
       "      <td>32692</td>\n",
       "      <td>0.009006</td>\n",
       "      <td>32286</td>\n",
       "      <td>0.008744</td>\n",
       "      <td>31641</td>\n",
       "      <td>0.009498</td>\n",
       "      <td>31543</td>\n",
       "      <td>1</td>\n",
       "    </tr>\n",
       "    <tr>\n",
       "      <th>3418</th>\n",
       "      <td>50000</td>\n",
       "      <td>0.006260</td>\n",
       "      <td>18827</td>\n",
       "      <td>0.167290</td>\n",
       "      <td>33975</td>\n",
       "      <td>0.606393</td>\n",
       "      <td>55122</td>\n",
       "      <td>0.463840</td>\n",
       "      <td>52931</td>\n",
       "      <td>0.393420</td>\n",
       "      <td>55518</td>\n",
       "      <td>0</td>\n",
       "    </tr>\n",
       "    <tr>\n",
       "      <th>18789</th>\n",
       "      <td>180000</td>\n",
       "      <td>0.000000</td>\n",
       "      <td>0</td>\n",
       "      <td>0.007472</td>\n",
       "      <td>2690</td>\n",
       "      <td>0.023302</td>\n",
       "      <td>9893</td>\n",
       "      <td>0.018622</td>\n",
       "      <td>6750</td>\n",
       "      <td>0.020386</td>\n",
       "      <td>8689</td>\n",
       "      <td>0</td>\n",
       "    </tr>\n",
       "    <tr>\n",
       "      <th>10750</th>\n",
       "      <td>20000</td>\n",
       "      <td>0.000000</td>\n",
       "      <td>0</td>\n",
       "      <td>0.000000</td>\n",
       "      <td>0</td>\n",
       "      <td>0.316667</td>\n",
       "      <td>19000</td>\n",
       "      <td>0.241813</td>\n",
       "      <td>17845</td>\n",
       "      <td>0.196190</td>\n",
       "      <td>16619</td>\n",
       "      <td>1</td>\n",
       "    </tr>\n",
       "    <tr>\n",
       "      <th>18057</th>\n",
       "      <td>50000</td>\n",
       "      <td>0.005740</td>\n",
       "      <td>8638</td>\n",
       "      <td>0.004250</td>\n",
       "      <td>8276</td>\n",
       "      <td>0.004740</td>\n",
       "      <td>8562</td>\n",
       "      <td>0.004910</td>\n",
       "      <td>7633</td>\n",
       "      <td>0.004272</td>\n",
       "      <td>5219</td>\n",
       "      <td>1</td>\n",
       "    </tr>\n",
       "    <tr>\n",
       "      <th>22125</th>\n",
       "      <td>230000</td>\n",
       "      <td>0.000000</td>\n",
       "      <td>0</td>\n",
       "      <td>0.074541</td>\n",
       "      <td>34289</td>\n",
       "      <td>0.132704</td>\n",
       "      <td>57255</td>\n",
       "      <td>0.123975</td>\n",
       "      <td>22420</td>\n",
       "      <td>0.114044</td>\n",
       "      <td>17077</td>\n",
       "      <td>1</td>\n",
       "    </tr>\n",
       "    <tr>\n",
       "      <th>25213</th>\n",
       "      <td>50000</td>\n",
       "      <td>0.020000</td>\n",
       "      <td>2640</td>\n",
       "      <td>0.012480</td>\n",
       "      <td>2888</td>\n",
       "      <td>0.275607</td>\n",
       "      <td>41981</td>\n",
       "      <td>0.263720</td>\n",
       "      <td>50820</td>\n",
       "      <td>0.214616</td>\n",
       "      <td>49711</td>\n",
       "      <td>0</td>\n",
       "    </tr>\n",
       "    <tr>\n",
       "      <th>5807</th>\n",
       "      <td>90000</td>\n",
       "      <td>0.047189</td>\n",
       "      <td>55896</td>\n",
       "      <td>0.047261</td>\n",
       "      <td>58142</td>\n",
       "      <td>0.047511</td>\n",
       "      <td>60363</td>\n",
       "      <td>0.047739</td>\n",
       "      <td>62521</td>\n",
       "      <td>0.049238</td>\n",
       "      <td>65237</td>\n",
       "      <td>1</td>\n",
       "    </tr>\n",
       "    <tr>\n",
       "      <th>9316</th>\n",
       "      <td>120000</td>\n",
       "      <td>0.037383</td>\n",
       "      <td>-10810</td>\n",
       "      <td>0.063733</td>\n",
       "      <td>0</td>\n",
       "      <td>0.042489</td>\n",
       "      <td>0</td>\n",
       "      <td>0.031867</td>\n",
       "      <td>0</td>\n",
       "      <td>0.025493</td>\n",
       "      <td>0</td>\n",
       "      <td>1</td>\n",
       "    </tr>\n",
       "    <tr>\n",
       "      <th>7650</th>\n",
       "      <td>200000</td>\n",
       "      <td>0.000000</td>\n",
       "      <td>0</td>\n",
       "      <td>0.000000</td>\n",
       "      <td>0</td>\n",
       "      <td>0.000000</td>\n",
       "      <td>0</td>\n",
       "      <td>0.000000</td>\n",
       "      <td>0</td>\n",
       "      <td>0.045810</td>\n",
       "      <td>45810</td>\n",
       "      <td>1</td>\n",
       "    </tr>\n",
       "    <tr>\n",
       "      <th>22407</th>\n",
       "      <td>360000</td>\n",
       "      <td>0.002761</td>\n",
       "      <td>51951</td>\n",
       "      <td>0.003368</td>\n",
       "      <td>48382</td>\n",
       "      <td>0.003238</td>\n",
       "      <td>44454</td>\n",
       "      <td>0.002894</td>\n",
       "      <td>40125</td>\n",
       "      <td>0.002797</td>\n",
       "      <td>20992</td>\n",
       "      <td>0</td>\n",
       "    </tr>\n",
       "    <tr>\n",
       "      <th>24928</th>\n",
       "      <td>500000</td>\n",
       "      <td>0.016340</td>\n",
       "      <td>8170</td>\n",
       "      <td>0.008770</td>\n",
       "      <td>600</td>\n",
       "      <td>0.006807</td>\n",
       "      <td>1440</td>\n",
       "      <td>0.005505</td>\n",
       "      <td>800</td>\n",
       "      <td>0.005238</td>\n",
       "      <td>2082</td>\n",
       "      <td>0</td>\n",
       "    </tr>\n",
       "    <tr>\n",
       "      <th>5061</th>\n",
       "      <td>60000</td>\n",
       "      <td>0.253350</td>\n",
       "      <td>29301</td>\n",
       "      <td>0.126675</td>\n",
       "      <td>28301</td>\n",
       "      <td>0.256017</td>\n",
       "      <td>58583</td>\n",
       "      <td>0.205200</td>\n",
       "      <td>61748</td>\n",
       "      <td>0.169380</td>\n",
       "      <td>61514</td>\n",
       "      <td>0</td>\n",
       "    </tr>\n",
       "    <tr>\n",
       "      <th>14973</th>\n",
       "      <td>30000</td>\n",
       "      <td>0.000000</td>\n",
       "      <td>2395</td>\n",
       "      <td>0.000000</td>\n",
       "      <td>2395</td>\n",
       "      <td>0.000000</td>\n",
       "      <td>2395</td>\n",
       "      <td>0.000000</td>\n",
       "      <td>2395</td>\n",
       "      <td>0.000000</td>\n",
       "      <td>2395</td>\n",
       "      <td>1</td>\n",
       "    </tr>\n",
       "    <tr>\n",
       "      <th>6763</th>\n",
       "      <td>190000</td>\n",
       "      <td>0.023642</td>\n",
       "      <td>4468</td>\n",
       "      <td>0.022003</td>\n",
       "      <td>3869</td>\n",
       "      <td>0.020856</td>\n",
       "      <td>3527</td>\n",
       "      <td>0.015642</td>\n",
       "      <td>-35</td>\n",
       "      <td>0.015356</td>\n",
       "      <td>2665</td>\n",
       "      <td>0</td>\n",
       "    </tr>\n",
       "    <tr>\n",
       "      <th>9795</th>\n",
       "      <td>250000</td>\n",
       "      <td>0.003884</td>\n",
       "      <td>52723</td>\n",
       "      <td>0.011622</td>\n",
       "      <td>54063</td>\n",
       "      <td>0.033601</td>\n",
       "      <td>71453</td>\n",
       "      <td>0.042713</td>\n",
       "      <td>85965</td>\n",
       "      <td>0.084980</td>\n",
       "      <td>142477</td>\n",
       "      <td>1</td>\n",
       "    </tr>\n",
       "    <tr>\n",
       "      <th>530</th>\n",
       "      <td>50000</td>\n",
       "      <td>0.174940</td>\n",
       "      <td>19322</td>\n",
       "      <td>0.090900</td>\n",
       "      <td>18165</td>\n",
       "      <td>0.155060</td>\n",
       "      <td>19334</td>\n",
       "      <td>0.118385</td>\n",
       "      <td>18552</td>\n",
       "      <td>0.170040</td>\n",
       "      <td>34549</td>\n",
       "      <td>0</td>\n",
       "    </tr>\n",
       "    <tr>\n",
       "      <th>13841</th>\n",
       "      <td>200000</td>\n",
       "      <td>0.061655</td>\n",
       "      <td>162943</td>\n",
       "      <td>0.036860</td>\n",
       "      <td>159556</td>\n",
       "      <td>0.062243</td>\n",
       "      <td>176158</td>\n",
       "      <td>0.062662</td>\n",
       "      <td>182942</td>\n",
       "      <td>0.069743</td>\n",
       "      <td>195507</td>\n",
       "      <td>0</td>\n",
       "    </tr>\n",
       "  </tbody>\n",
       "</table>\n",
       "</div>"
      ],
      "text/plain": [
       "       LIMIT_BAL  Avg_exp_5  BILL_AMT5  Avg_exp_4  BILL_AMT4  Avg_exp_3  \\\n",
       "19380     300000   0.026720       8016   0.043462      18061   0.045039   \n",
       "12977     160000   0.009806     120714   0.010041     122358   0.013010   \n",
       "10641     120000   0.006808      32261   0.010200      32692   0.009006   \n",
       "3418       50000   0.006260      18827   0.167290      33975   0.606393   \n",
       "18789     180000   0.000000          0   0.007472       2690   0.023302   \n",
       "10750      20000   0.000000          0   0.000000          0   0.316667   \n",
       "18057      50000   0.005740       8638   0.004250       8276   0.004740   \n",
       "22125     230000   0.000000          0   0.074541      34289   0.132704   \n",
       "25213      50000   0.020000       2640   0.012480       2888   0.275607   \n",
       "5807       90000   0.047189      55896   0.047261      58142   0.047511   \n",
       "9316      120000   0.037383     -10810   0.063733          0   0.042489   \n",
       "7650      200000   0.000000          0   0.000000          0   0.000000   \n",
       "22407     360000   0.002761      51951   0.003368      48382   0.003238   \n",
       "24928     500000   0.016340       8170   0.008770        600   0.006807   \n",
       "5061       60000   0.253350      29301   0.126675      28301   0.256017   \n",
       "14973      30000   0.000000       2395   0.000000       2395   0.000000   \n",
       "6763      190000   0.023642       4468   0.022003       3869   0.020856   \n",
       "9795      250000   0.003884      52723   0.011622      54063   0.033601   \n",
       "530        50000   0.174940      19322   0.090900      18165   0.155060   \n",
       "13841     200000   0.061655     162943   0.036860     159556   0.062243   \n",
       "\n",
       "       BILL_AMT3  Avg_exp_2  BILL_AMT2  Avg_exp_1  BILL_AMT1  def_pay  \n",
       "19380      14458   0.061200      32905   0.063595      21953        0  \n",
       "12977     110390   0.011861     105536   0.011059     102292        0  \n",
       "10641      32286   0.008744      31641   0.009498      31543        1  \n",
       "3418       55122   0.463840      52931   0.393420      55518        0  \n",
       "18789       9893   0.018622       6750   0.020386       8689        0  \n",
       "10750      19000   0.241813      17845   0.196190      16619        1  \n",
       "18057       8562   0.004910       7633   0.004272       5219        1  \n",
       "22125      57255   0.123975      22420   0.114044      17077        1  \n",
       "25213      41981   0.263720      50820   0.214616      49711        0  \n",
       "5807       60363   0.047739      62521   0.049238      65237        1  \n",
       "9316           0   0.031867          0   0.025493          0        1  \n",
       "7650           0   0.000000          0   0.045810      45810        1  \n",
       "22407      44454   0.002894      40125   0.002797      20992        0  \n",
       "24928       1440   0.005505        800   0.005238       2082        0  \n",
       "5061       58583   0.205200      61748   0.169380      61514        0  \n",
       "14973       2395   0.000000       2395   0.000000       2395        1  \n",
       "6763        3527   0.015642        -35   0.015356       2665        0  \n",
       "9795       71453   0.042713      85965   0.084980     142477        1  \n",
       "530        19334   0.118385      18552   0.170040      34549        0  \n",
       "13841     176158   0.062662     182942   0.069743     195507        0  "
      ]
     },
     "execution_count": 55,
     "metadata": {},
     "output_type": "execute_result"
    }
   ],
   "source": [
    "df['Avg_exp_5'] = ((df['BILL_AMT5'] - (df['BILL_AMT6'] - df['PAY_AMT5']))) / df['LIMIT_BAL']\n",
    "\n",
    "df['Avg_exp_4'] = (((df['BILL_AMT5'] - (df['BILL_AMT6'] - df['PAY_AMT5'])) +\n",
    "                 (df['BILL_AMT4'] - (df['BILL_AMT5'] - df['PAY_AMT4']))) / 2) / df['LIMIT_BAL']\n",
    "\n",
    "df['Avg_exp_3'] = (((df['BILL_AMT5'] - (df['BILL_AMT6'] - df['PAY_AMT5'])) +\n",
    "                 (df['BILL_AMT4'] - (df['BILL_AMT5'] - df['PAY_AMT4'])) +\n",
    "                 (df['BILL_AMT3'] - (df['BILL_AMT4'] - df['PAY_AMT3']))) / 3) / df['LIMIT_BAL']\n",
    "\n",
    "df['Avg_exp_2'] = (((df['BILL_AMT5'] - (df['BILL_AMT6'] - df['PAY_AMT5'])) +\n",
    "                 (df['BILL_AMT4'] - (df['BILL_AMT5'] - df['PAY_AMT4'])) +\n",
    "                 (df['BILL_AMT3'] - (df['BILL_AMT4'] - df['PAY_AMT3'])) +\n",
    "                 (df['BILL_AMT2'] - (df['BILL_AMT3'] - df['PAY_AMT2']))) / 4) / df['LIMIT_BAL']\n",
    "\n",
    "df['Avg_exp_1'] = (((df['BILL_AMT5'] - (df['BILL_AMT6'] - df['PAY_AMT5'])) +\n",
    "                 (df['BILL_AMT4'] - (df['BILL_AMT5'] - df['PAY_AMT4'])) +\n",
    "                 (df['BILL_AMT3'] - (df['BILL_AMT4'] - df['PAY_AMT3'])) +\n",
    "                 (df['BILL_AMT2'] - (df['BILL_AMT3'] - df['PAY_AMT2'])) +\n",
    "                 (df['BILL_AMT1'] - (df['BILL_AMT2'] - df['PAY_AMT1']))) / 5) / df['LIMIT_BAL']\n",
    "\n",
    "df[['LIMIT_BAL', 'Avg_exp_5', 'BILL_AMT5', 'Avg_exp_4', 'BILL_AMT4','Avg_exp_3', 'BILL_AMT3',\n",
    "    'Avg_exp_2', 'BILL_AMT2', 'Avg_exp_1', 'BILL_AMT1', 'def_pay']].sample(20)"
   ]
  },
  {
   "cell_type": "code",
   "execution_count": 56,
   "metadata": {},
   "outputs": [
    {
     "data": {
      "text/html": [
       "<div>\n",
       "<style scoped>\n",
       "    .dataframe tbody tr th:only-of-type {\n",
       "        vertical-align: middle;\n",
       "    }\n",
       "\n",
       "    .dataframe tbody tr th {\n",
       "        vertical-align: top;\n",
       "    }\n",
       "\n",
       "    .dataframe thead th {\n",
       "        text-align: right;\n",
       "    }\n",
       "</style>\n",
       "<table border=\"1\" class=\"dataframe\">\n",
       "  <thead>\n",
       "    <tr style=\"text-align: right;\">\n",
       "      <th></th>\n",
       "      <th>Closeness_6</th>\n",
       "      <th>Closeness_5</th>\n",
       "      <th>Closeness_4</th>\n",
       "      <th>Closeness_3</th>\n",
       "      <th>Closeness_2</th>\n",
       "      <th>Closeness_1</th>\n",
       "      <th>def_pay</th>\n",
       "    </tr>\n",
       "  </thead>\n",
       "  <tbody>\n",
       "    <tr>\n",
       "      <th>11841</th>\n",
       "      <td>0.411611</td>\n",
       "      <td>0.399178</td>\n",
       "      <td>0.400519</td>\n",
       "      <td>0.084703</td>\n",
       "      <td>0.544895</td>\n",
       "      <td>0.560741</td>\n",
       "      <td>0</td>\n",
       "    </tr>\n",
       "    <tr>\n",
       "      <th>9010</th>\n",
       "      <td>0.997885</td>\n",
       "      <td>0.971441</td>\n",
       "      <td>0.997885</td>\n",
       "      <td>0.998830</td>\n",
       "      <td>0.998830</td>\n",
       "      <td>0.998830</td>\n",
       "      <td>0</td>\n",
       "    </tr>\n",
       "    <tr>\n",
       "      <th>27762</th>\n",
       "      <td>0.390500</td>\n",
       "      <td>0.334800</td>\n",
       "      <td>0.556800</td>\n",
       "      <td>0.328600</td>\n",
       "      <td>0.262600</td>\n",
       "      <td>0.635400</td>\n",
       "      <td>0</td>\n",
       "    </tr>\n",
       "    <tr>\n",
       "      <th>18702</th>\n",
       "      <td>0.306238</td>\n",
       "      <td>0.321146</td>\n",
       "      <td>0.194631</td>\n",
       "      <td>0.920400</td>\n",
       "      <td>0.657138</td>\n",
       "      <td>0.547608</td>\n",
       "      <td>0</td>\n",
       "    </tr>\n",
       "    <tr>\n",
       "      <th>8577</th>\n",
       "      <td>0.774968</td>\n",
       "      <td>0.787950</td>\n",
       "      <td>0.792364</td>\n",
       "      <td>0.787591</td>\n",
       "      <td>0.776527</td>\n",
       "      <td>0.781064</td>\n",
       "      <td>0</td>\n",
       "    </tr>\n",
       "    <tr>\n",
       "      <th>3066</th>\n",
       "      <td>1.000000</td>\n",
       "      <td>0.925700</td>\n",
       "      <td>0.958400</td>\n",
       "      <td>1.000000</td>\n",
       "      <td>0.958400</td>\n",
       "      <td>1.000000</td>\n",
       "      <td>0</td>\n",
       "    </tr>\n",
       "    <tr>\n",
       "      <th>25162</th>\n",
       "      <td>0.918185</td>\n",
       "      <td>0.920362</td>\n",
       "      <td>0.921385</td>\n",
       "      <td>0.926669</td>\n",
       "      <td>0.932077</td>\n",
       "      <td>0.929823</td>\n",
       "      <td>1</td>\n",
       "    </tr>\n",
       "    <tr>\n",
       "      <th>13671</th>\n",
       "      <td>0.436511</td>\n",
       "      <td>0.393178</td>\n",
       "      <td>0.320306</td>\n",
       "      <td>0.286989</td>\n",
       "      <td>0.271350</td>\n",
       "      <td>0.227239</td>\n",
       "      <td>0</td>\n",
       "    </tr>\n",
       "    <tr>\n",
       "      <th>26035</th>\n",
       "      <td>-0.019600</td>\n",
       "      <td>-0.017470</td>\n",
       "      <td>-0.015545</td>\n",
       "      <td>-0.015085</td>\n",
       "      <td>-0.015735</td>\n",
       "      <td>-0.016325</td>\n",
       "      <td>0</td>\n",
       "    </tr>\n",
       "    <tr>\n",
       "      <th>13958</th>\n",
       "      <td>0.822580</td>\n",
       "      <td>0.585930</td>\n",
       "      <td>0.580615</td>\n",
       "      <td>0.587915</td>\n",
       "      <td>0.561215</td>\n",
       "      <td>0.503545</td>\n",
       "      <td>0</td>\n",
       "    </tr>\n",
       "    <tr>\n",
       "      <th>1242</th>\n",
       "      <td>1.000000</td>\n",
       "      <td>1.000000</td>\n",
       "      <td>0.990825</td>\n",
       "      <td>1.000000</td>\n",
       "      <td>1.000000</td>\n",
       "      <td>1.000000</td>\n",
       "      <td>0</td>\n",
       "    </tr>\n",
       "    <tr>\n",
       "      <th>18442</th>\n",
       "      <td>0.094400</td>\n",
       "      <td>0.192550</td>\n",
       "      <td>0.164400</td>\n",
       "      <td>0.267300</td>\n",
       "      <td>0.303000</td>\n",
       "      <td>0.353400</td>\n",
       "      <td>1</td>\n",
       "    </tr>\n",
       "    <tr>\n",
       "      <th>16195</th>\n",
       "      <td>0.972440</td>\n",
       "      <td>0.966762</td>\n",
       "      <td>0.973688</td>\n",
       "      <td>0.982457</td>\n",
       "      <td>0.979688</td>\n",
       "      <td>0.996420</td>\n",
       "      <td>1</td>\n",
       "    </tr>\n",
       "    <tr>\n",
       "      <th>4189</th>\n",
       "      <td>0.144100</td>\n",
       "      <td>-0.005600</td>\n",
       "      <td>0.083100</td>\n",
       "      <td>0.054900</td>\n",
       "      <td>0.024900</td>\n",
       "      <td>0.314100</td>\n",
       "      <td>0</td>\n",
       "    </tr>\n",
       "    <tr>\n",
       "      <th>4121</th>\n",
       "      <td>0.634957</td>\n",
       "      <td>0.643329</td>\n",
       "      <td>0.636571</td>\n",
       "      <td>0.673850</td>\n",
       "      <td>0.680643</td>\n",
       "      <td>0.688457</td>\n",
       "      <td>0</td>\n",
       "    </tr>\n",
       "    <tr>\n",
       "      <th>27344</th>\n",
       "      <td>0.533256</td>\n",
       "      <td>0.543078</td>\n",
       "      <td>0.563700</td>\n",
       "      <td>0.584078</td>\n",
       "      <td>0.605383</td>\n",
       "      <td>0.637633</td>\n",
       "      <td>0</td>\n",
       "    </tr>\n",
       "    <tr>\n",
       "      <th>18986</th>\n",
       "      <td>0.056850</td>\n",
       "      <td>0.027625</td>\n",
       "      <td>0.001425</td>\n",
       "      <td>-0.013575</td>\n",
       "      <td>-0.014525</td>\n",
       "      <td>0.001500</td>\n",
       "      <td>0</td>\n",
       "    </tr>\n",
       "    <tr>\n",
       "      <th>7784</th>\n",
       "      <td>1.000000</td>\n",
       "      <td>1.000000</td>\n",
       "      <td>0.961000</td>\n",
       "      <td>0.941500</td>\n",
       "      <td>1.000000</td>\n",
       "      <td>0.961000</td>\n",
       "      <td>1</td>\n",
       "    </tr>\n",
       "    <tr>\n",
       "      <th>29719</th>\n",
       "      <td>1.131150</td>\n",
       "      <td>0.190750</td>\n",
       "      <td>0.173750</td>\n",
       "      <td>0.159850</td>\n",
       "      <td>0.135350</td>\n",
       "      <td>0.115400</td>\n",
       "      <td>0</td>\n",
       "    </tr>\n",
       "    <tr>\n",
       "      <th>1953</th>\n",
       "      <td>-0.015640</td>\n",
       "      <td>0.050160</td>\n",
       "      <td>-0.006640</td>\n",
       "      <td>0.033800</td>\n",
       "      <td>-0.023220</td>\n",
       "      <td>0.045480</td>\n",
       "      <td>1</td>\n",
       "    </tr>\n",
       "  </tbody>\n",
       "</table>\n",
       "</div>"
      ],
      "text/plain": [
       "       Closeness_6  Closeness_5  Closeness_4  Closeness_3  Closeness_2  \\\n",
       "11841     0.411611     0.399178     0.400519     0.084703     0.544895   \n",
       "9010      0.997885     0.971441     0.997885     0.998830     0.998830   \n",
       "27762     0.390500     0.334800     0.556800     0.328600     0.262600   \n",
       "18702     0.306238     0.321146     0.194631     0.920400     0.657138   \n",
       "8577      0.774968     0.787950     0.792364     0.787591     0.776527   \n",
       "3066      1.000000     0.925700     0.958400     1.000000     0.958400   \n",
       "25162     0.918185     0.920362     0.921385     0.926669     0.932077   \n",
       "13671     0.436511     0.393178     0.320306     0.286989     0.271350   \n",
       "26035    -0.019600    -0.017470    -0.015545    -0.015085    -0.015735   \n",
       "13958     0.822580     0.585930     0.580615     0.587915     0.561215   \n",
       "1242      1.000000     1.000000     0.990825     1.000000     1.000000   \n",
       "18442     0.094400     0.192550     0.164400     0.267300     0.303000   \n",
       "16195     0.972440     0.966762     0.973688     0.982457     0.979688   \n",
       "4189      0.144100    -0.005600     0.083100     0.054900     0.024900   \n",
       "4121      0.634957     0.643329     0.636571     0.673850     0.680643   \n",
       "27344     0.533256     0.543078     0.563700     0.584078     0.605383   \n",
       "18986     0.056850     0.027625     0.001425    -0.013575    -0.014525   \n",
       "7784      1.000000     1.000000     0.961000     0.941500     1.000000   \n",
       "29719     1.131150     0.190750     0.173750     0.159850     0.135350   \n",
       "1953     -0.015640     0.050160    -0.006640     0.033800    -0.023220   \n",
       "\n",
       "       Closeness_1  def_pay  \n",
       "11841     0.560741        0  \n",
       "9010      0.998830        0  \n",
       "27762     0.635400        0  \n",
       "18702     0.547608        0  \n",
       "8577      0.781064        0  \n",
       "3066      1.000000        0  \n",
       "25162     0.929823        1  \n",
       "13671     0.227239        0  \n",
       "26035    -0.016325        0  \n",
       "13958     0.503545        0  \n",
       "1242      1.000000        0  \n",
       "18442     0.353400        1  \n",
       "16195     0.996420        1  \n",
       "4189      0.314100        0  \n",
       "4121      0.688457        0  \n",
       "27344     0.637633        0  \n",
       "18986     0.001500        0  \n",
       "7784      0.961000        1  \n",
       "29719     0.115400        0  \n",
       "1953      0.045480        1  "
      ]
     },
     "execution_count": 56,
     "metadata": {},
     "output_type": "execute_result"
    }
   ],
   "source": [
    "df['Closeness_6'] = (df.LIMIT_BAL - df.BILL_AMT6) / df.LIMIT_BAL\n",
    "df['Closeness_5'] = (df.LIMIT_BAL - df.BILL_AMT5) / df.LIMIT_BAL\n",
    "df['Closeness_4'] = (df.LIMIT_BAL - df.BILL_AMT4) / df.LIMIT_BAL\n",
    "df['Closeness_3'] = (df.LIMIT_BAL - df.BILL_AMT3) / df.LIMIT_BAL\n",
    "df['Closeness_2'] = (df.LIMIT_BAL - df.BILL_AMT2) / df.LIMIT_BAL\n",
    "df['Closeness_1'] = (df.LIMIT_BAL - df.BILL_AMT1) / df.LIMIT_BAL\n",
    "df[['Closeness_6', 'Closeness_5', 'Closeness_4', 'Closeness_3', 'Closeness_2',\n",
    "   'Closeness_1', 'def_pay']].sample(20)"
   ]
  },
  {
   "cell_type": "code",
   "execution_count": 57,
   "metadata": {},
   "outputs": [
    {
     "data": {
      "text/html": [
       "<div>\n",
       "<style scoped>\n",
       "    .dataframe tbody tr th:only-of-type {\n",
       "        vertical-align: middle;\n",
       "    }\n",
       "\n",
       "    .dataframe tbody tr th {\n",
       "        vertical-align: top;\n",
       "    }\n",
       "\n",
       "    .dataframe thead th {\n",
       "        text-align: right;\n",
       "    }\n",
       "</style>\n",
       "<table border=\"1\" class=\"dataframe\">\n",
       "  <thead>\n",
       "    <tr style=\"text-align: right;\">\n",
       "      <th></th>\n",
       "      <th>ID</th>\n",
       "      <th>LIMIT_BAL</th>\n",
       "      <th>SEX</th>\n",
       "      <th>EDUCATION</th>\n",
       "      <th>MARRIAGE</th>\n",
       "      <th>AGE</th>\n",
       "      <th>PAY_1</th>\n",
       "      <th>PAY_2</th>\n",
       "      <th>PAY_3</th>\n",
       "      <th>PAY_4</th>\n",
       "      <th>...</th>\n",
       "      <th>Avg_exp_4</th>\n",
       "      <th>Avg_exp_3</th>\n",
       "      <th>Avg_exp_2</th>\n",
       "      <th>Avg_exp_1</th>\n",
       "      <th>Closeness_6</th>\n",
       "      <th>Closeness_5</th>\n",
       "      <th>Closeness_4</th>\n",
       "      <th>Closeness_3</th>\n",
       "      <th>Closeness_2</th>\n",
       "      <th>Closeness_1</th>\n",
       "    </tr>\n",
       "  </thead>\n",
       "  <tbody>\n",
       "    <tr>\n",
       "      <th>0</th>\n",
       "      <td>798fc410-45c1</td>\n",
       "      <td>20000</td>\n",
       "      <td>2</td>\n",
       "      <td>2</td>\n",
       "      <td>1</td>\n",
       "      <td>24</td>\n",
       "      <td>2</td>\n",
       "      <td>2</td>\n",
       "      <td>0</td>\n",
       "      <td>0</td>\n",
       "      <td>...</td>\n",
       "      <td>0.000000</td>\n",
       "      <td>0.011483</td>\n",
       "      <td>0.047387</td>\n",
       "      <td>0.046020</td>\n",
       "      <td>1.000000</td>\n",
       "      <td>1.000000</td>\n",
       "      <td>1.000000</td>\n",
       "      <td>0.965550</td>\n",
       "      <td>0.844900</td>\n",
       "      <td>0.804350</td>\n",
       "    </tr>\n",
       "    <tr>\n",
       "      <th>1</th>\n",
       "      <td>8a8c8f3b-8eb4</td>\n",
       "      <td>120000</td>\n",
       "      <td>2</td>\n",
       "      <td>2</td>\n",
       "      <td>2</td>\n",
       "      <td>26</td>\n",
       "      <td>0</td>\n",
       "      <td>2</td>\n",
       "      <td>0</td>\n",
       "      <td>0</td>\n",
       "      <td>...</td>\n",
       "      <td>0.004213</td>\n",
       "      <td>0.003947</td>\n",
       "      <td>0.003050</td>\n",
       "      <td>0.004035</td>\n",
       "      <td>0.972825</td>\n",
       "      <td>0.971208</td>\n",
       "      <td>0.972733</td>\n",
       "      <td>0.977650</td>\n",
       "      <td>0.985625</td>\n",
       "      <td>0.977650</td>\n",
       "    </tr>\n",
       "    <tr>\n",
       "      <th>2</th>\n",
       "      <td>85698822-43f5</td>\n",
       "      <td>90000</td>\n",
       "      <td>2</td>\n",
       "      <td>2</td>\n",
       "      <td>2</td>\n",
       "      <td>34</td>\n",
       "      <td>0</td>\n",
       "      <td>0</td>\n",
       "      <td>0</td>\n",
       "      <td>0</td>\n",
       "      <td>...</td>\n",
       "      <td>0.004344</td>\n",
       "      <td>0.003741</td>\n",
       "      <td>0.008272</td>\n",
       "      <td>0.043796</td>\n",
       "      <td>0.827233</td>\n",
       "      <td>0.833911</td>\n",
       "      <td>0.840767</td>\n",
       "      <td>0.849344</td>\n",
       "      <td>0.844144</td>\n",
       "      <td>0.675122</td>\n",
       "    </tr>\n",
       "    <tr>\n",
       "      <th>3</th>\n",
       "      <td>0737c11b-be42</td>\n",
       "      <td>50000</td>\n",
       "      <td>2</td>\n",
       "      <td>2</td>\n",
       "      <td>1</td>\n",
       "      <td>37</td>\n",
       "      <td>0</td>\n",
       "      <td>0</td>\n",
       "      <td>0</td>\n",
       "      <td>0</td>\n",
       "      <td>...</td>\n",
       "      <td>0.009360</td>\n",
       "      <td>0.154087</td>\n",
       "      <td>0.120370</td>\n",
       "      <td>0.099324</td>\n",
       "      <td>0.409060</td>\n",
       "      <td>0.420820</td>\n",
       "      <td>0.433720</td>\n",
       "      <td>0.014180</td>\n",
       "      <td>0.035340</td>\n",
       "      <td>0.060200</td>\n",
       "    </tr>\n",
       "    <tr>\n",
       "      <th>4</th>\n",
       "      <td>3b7f77cc-dbc0</td>\n",
       "      <td>50000</td>\n",
       "      <td>1</td>\n",
       "      <td>2</td>\n",
       "      <td>1</td>\n",
       "      <td>57</td>\n",
       "      <td>0</td>\n",
       "      <td>0</td>\n",
       "      <td>0</td>\n",
       "      <td>0</td>\n",
       "      <td>...</td>\n",
       "      <td>0.114980</td>\n",
       "      <td>0.242620</td>\n",
       "      <td>0.214545</td>\n",
       "      <td>0.191424</td>\n",
       "      <td>0.617380</td>\n",
       "      <td>0.617080</td>\n",
       "      <td>0.581200</td>\n",
       "      <td>0.283300</td>\n",
       "      <td>0.886600</td>\n",
       "      <td>0.827660</td>\n",
       "    </tr>\n",
       "  </tbody>\n",
       "</table>\n",
       "<p>5 rows × 44 columns</p>\n",
       "</div>"
      ],
      "text/plain": [
       "              ID  LIMIT_BAL  SEX  EDUCATION  MARRIAGE  AGE  PAY_1  PAY_2  \\\n",
       "0  798fc410-45c1      20000    2          2         1   24      2      2   \n",
       "1  8a8c8f3b-8eb4     120000    2          2         2   26      0      2   \n",
       "2  85698822-43f5      90000    2          2         2   34      0      0   \n",
       "3  0737c11b-be42      50000    2          2         1   37      0      0   \n",
       "4  3b7f77cc-dbc0      50000    1          2         1   57      0      0   \n",
       "\n",
       "   PAY_3  PAY_4  ...  Avg_exp_4  Avg_exp_3  Avg_exp_2  Avg_exp_1  Closeness_6  \\\n",
       "0      0      0  ...   0.000000   0.011483   0.047387   0.046020     1.000000   \n",
       "1      0      0  ...   0.004213   0.003947   0.003050   0.004035     0.972825   \n",
       "2      0      0  ...   0.004344   0.003741   0.008272   0.043796     0.827233   \n",
       "3      0      0  ...   0.009360   0.154087   0.120370   0.099324     0.409060   \n",
       "4      0      0  ...   0.114980   0.242620   0.214545   0.191424     0.617380   \n",
       "\n",
       "   Closeness_5  Closeness_4  Closeness_3  Closeness_2  Closeness_1  \n",
       "0     1.000000     1.000000     0.965550     0.844900     0.804350  \n",
       "1     0.971208     0.972733     0.977650     0.985625     0.977650  \n",
       "2     0.833911     0.840767     0.849344     0.844144     0.675122  \n",
       "3     0.420820     0.433720     0.014180     0.035340     0.060200  \n",
       "4     0.617080     0.581200     0.283300     0.886600     0.827660  \n",
       "\n",
       "[5 rows x 44 columns]"
      ]
     },
     "execution_count": 57,
     "metadata": {},
     "output_type": "execute_result"
    }
   ],
   "source": [
    "df.head()"
   ]
  },
  {
   "cell_type": "code",
   "execution_count": 58,
   "metadata": {},
   "outputs": [
    {
     "name": "stdout",
     "output_type": "stream",
     "text": [
      "<class 'pandas.core.frame.DataFrame'>\n",
      "Int64Index: 26664 entries, 0 to 29999\n",
      "Data columns (total 44 columns):\n",
      " #   Column       Non-Null Count  Dtype  \n",
      "---  ------       --------------  -----  \n",
      " 0   ID           26664 non-null  object \n",
      " 1   LIMIT_BAL    26664 non-null  int64  \n",
      " 2   SEX          26664 non-null  int64  \n",
      " 3   EDUCATION    26664 non-null  int64  \n",
      " 4   MARRIAGE     26664 non-null  int64  \n",
      " 5   AGE          26664 non-null  int64  \n",
      " 6   PAY_1        26664 non-null  int64  \n",
      " 7   PAY_2        26664 non-null  int64  \n",
      " 8   PAY_3        26664 non-null  int64  \n",
      " 9   PAY_4        26664 non-null  int64  \n",
      " 10  PAY_5        26664 non-null  int64  \n",
      " 11  PAY_6        26664 non-null  int64  \n",
      " 12  BILL_AMT1    26664 non-null  int64  \n",
      " 13  BILL_AMT2    26664 non-null  int64  \n",
      " 14  BILL_AMT3    26664 non-null  int64  \n",
      " 15  BILL_AMT4    26664 non-null  int64  \n",
      " 16  BILL_AMT5    26664 non-null  int64  \n",
      " 17  BILL_AMT6    26664 non-null  int64  \n",
      " 18  PAY_AMT1     26664 non-null  int64  \n",
      " 19  PAY_AMT2     26664 non-null  int64  \n",
      " 20  PAY_AMT3     26664 non-null  int64  \n",
      " 21  PAY_AMT4     26664 non-null  int64  \n",
      " 22  PAY_AMT5     26664 non-null  int64  \n",
      " 23  PAY_AMT6     26664 non-null  int64  \n",
      " 24  def_pay      26664 non-null  int64  \n",
      " 25  SE_MA        26664 non-null  int64  \n",
      " 26  AgeBin       26664 non-null  int64  \n",
      " 27  Client_6     26664 non-null  int64  \n",
      " 28  Client_5     26664 non-null  int64  \n",
      " 29  Client_4     26664 non-null  int64  \n",
      " 30  Client_3     26664 non-null  int64  \n",
      " 31  Client_2     26664 non-null  int64  \n",
      " 32  Client_1     26664 non-null  int64  \n",
      " 33  Avg_exp_5    26664 non-null  float64\n",
      " 34  Avg_exp_4    26664 non-null  float64\n",
      " 35  Avg_exp_3    26664 non-null  float64\n",
      " 36  Avg_exp_2    26664 non-null  float64\n",
      " 37  Avg_exp_1    26664 non-null  float64\n",
      " 38  Closeness_6  26664 non-null  float64\n",
      " 39  Closeness_5  26664 non-null  float64\n",
      " 40  Closeness_4  26664 non-null  float64\n",
      " 41  Closeness_3  26664 non-null  float64\n",
      " 42  Closeness_2  26664 non-null  float64\n",
      " 43  Closeness_1  26664 non-null  float64\n",
      "dtypes: float64(11), int64(32), object(1)\n",
      "memory usage: 10.4+ MB\n"
     ]
    }
   ],
   "source": [
    "df.info()"
   ]
  },
  {
   "cell_type": "code",
   "execution_count": 59,
   "metadata": {},
   "outputs": [],
   "source": [
    "features = ['LIMIT_BAL', 'EDUCATION', 'MARRIAGE', 'PAY_1','PAY_2', 'PAY_3', \n",
    "            'PAY_4', 'PAY_5', 'PAY_6','BILL_AMT1', 'BILL_AMT2',\n",
    "            'BILL_AMT3', 'BILL_AMT4', 'BILL_AMT5', 'BILL_AMT6', 'PAY_AMT1',\n",
    "            'PAY_AMT2', 'PAY_AMT3', 'PAY_AMT4', 'PAY_AMT5', 'PAY_AMT6', \n",
    "            'SE_MA', 'AgeBin', 'Avg_exp_5', 'Avg_exp_4',\n",
    "            'Avg_exp_3', 'Avg_exp_2', 'Avg_exp_1', 'Closeness_5',\n",
    "            'Closeness_4', 'Closeness_3', 'Closeness_2','Closeness_1']\n",
    "y = df['def_pay'].copy() # target\n",
    "X = df[features].copy()\n",
    "X_train, X_test, y_train, y_test = train_test_split(X, y, test_size=0.20, random_state=42)"
   ]
  },
  {
   "cell_type": "code",
   "execution_count": 60,
   "metadata": {},
   "outputs": [],
   "source": [
    "dt = tree.DecisionTreeClassifier(max_depth=2)"
   ]
  },
  {
   "cell_type": "code",
   "execution_count": 61,
   "metadata": {},
   "outputs": [
    {
     "data": {
      "text/plain": [
       "DecisionTreeClassifier(ccp_alpha=0.0, class_weight=None, criterion='gini',\n",
       "                       max_depth=2, max_features=None, max_leaf_nodes=None,\n",
       "                       min_impurity_decrease=0.0, min_impurity_split=None,\n",
       "                       min_samples_leaf=1, min_samples_split=2,\n",
       "                       min_weight_fraction_leaf=0.0, presort='deprecated',\n",
       "                       random_state=None, splitter='best')"
      ]
     },
     "execution_count": 61,
     "metadata": {},
     "output_type": "execute_result"
    }
   ],
   "source": [
    "dt.fit(X_train, y_train)"
   ]
  },
  {
   "cell_type": "code",
   "execution_count": 62,
   "metadata": {},
   "outputs": [
    {
     "data": {
      "text/plain": [
       "(21331, 33)"
      ]
     },
     "execution_count": 62,
     "metadata": {},
     "output_type": "execute_result"
    }
   ],
   "source": [
    "X_train.shape"
   ]
  },
  {
   "cell_type": "code",
   "execution_count": 63,
   "metadata": {},
   "outputs": [],
   "source": [
    "dt.max_depth = None"
   ]
  },
  {
   "cell_type": "code",
   "execution_count": 64,
   "metadata": {},
   "outputs": [
    {
     "data": {
      "text/plain": [
       "DecisionTreeClassifier(ccp_alpha=0.0, class_weight=None, criterion='gini',\n",
       "                       max_depth=None, max_features=None, max_leaf_nodes=None,\n",
       "                       min_impurity_decrease=0.0, min_impurity_split=None,\n",
       "                       min_samples_leaf=1, min_samples_split=2,\n",
       "                       min_weight_fraction_leaf=0.0, presort='deprecated',\n",
       "                       random_state=None, splitter='best')"
      ]
     },
     "execution_count": 64,
     "metadata": {},
     "output_type": "execute_result"
    }
   ],
   "source": [
    "dt.fit(X_train, y_train)"
   ]
  },
  {
   "cell_type": "code",
   "execution_count": 65,
   "metadata": {},
   "outputs": [
    {
     "data": {
      "text/plain": [
       "(21331, 33)"
      ]
     },
     "execution_count": 65,
     "metadata": {},
     "output_type": "execute_result"
    }
   ],
   "source": [
    "X_train.shape"
   ]
  },
  {
   "cell_type": "code",
   "execution_count": 66,
   "metadata": {},
   "outputs": [],
   "source": [
    "params = {'max_depth':[1, 2, 4, 6, 8, 10, 12]}\n",
    "# params = {'max_depth':list(range(1,13))}"
   ]
  },
  {
   "cell_type": "code",
   "execution_count": 67,
   "metadata": {},
   "outputs": [],
   "source": [
    "cv = GridSearchCV(dt, param_grid=params, scoring='roc_auc',\n",
    "                  n_jobs=None, refit=True, cv=5, verbose=1,\n",
    "                  pre_dispatch=None, error_score=np.nan, return_train_score=True)\n",
    "#5/2020: removed arguments fit_params, iid"
   ]
  },
  {
   "cell_type": "code",
   "execution_count": 68,
   "metadata": {},
   "outputs": [
    {
     "name": "stdout",
     "output_type": "stream",
     "text": [
      "Fitting 5 folds for each of 7 candidates, totalling 35 fits\n"
     ]
    },
    {
     "name": "stderr",
     "output_type": "stream",
     "text": [
      "[Parallel(n_jobs=1)]: Using backend SequentialBackend with 1 concurrent workers.\n",
      "[Parallel(n_jobs=1)]: Done  35 out of  35 | elapsed:    7.6s finished\n"
     ]
    },
    {
     "data": {
      "text/plain": [
       "GridSearchCV(cv=5, error_score=nan,\n",
       "             estimator=DecisionTreeClassifier(ccp_alpha=0.0, class_weight=None,\n",
       "                                              criterion='gini', max_depth=None,\n",
       "                                              max_features=None,\n",
       "                                              max_leaf_nodes=None,\n",
       "                                              min_impurity_decrease=0.0,\n",
       "                                              min_impurity_split=None,\n",
       "                                              min_samples_leaf=1,\n",
       "                                              min_samples_split=2,\n",
       "                                              min_weight_fraction_leaf=0.0,\n",
       "                                              presort='deprecated',\n",
       "                                              random_state=None,\n",
       "                                              splitter='best'),\n",
       "             iid='deprecated', n_jobs=None,\n",
       "             param_grid={'max_depth': [1, 2, 4, 6, 8, 10, 12]},\n",
       "             pre_dispatch=None, refit=True, return_train_score=True,\n",
       "             scoring='roc_auc', verbose=1)"
      ]
     },
     "execution_count": 68,
     "metadata": {},
     "output_type": "execute_result"
    }
   ],
   "source": [
    "cv.fit(X_train, y_train)"
   ]
  },
  {
   "cell_type": "code",
   "execution_count": 69,
   "metadata": {},
   "outputs": [
    {
     "data": {
      "text/plain": [
       "{'max_depth': 6}"
      ]
     },
     "execution_count": 69,
     "metadata": {},
     "output_type": "execute_result"
    }
   ],
   "source": [
    "cv.best_params_"
   ]
  },
  {
   "cell_type": "code",
   "execution_count": 70,
   "metadata": {},
   "outputs": [
    {
     "data": {
      "text/plain": [
       "0.7523954015494099"
      ]
     },
     "execution_count": 70,
     "metadata": {},
     "output_type": "execute_result"
    }
   ],
   "source": [
    "cv.best_score_"
   ]
  },
  {
   "cell_type": "code",
   "execution_count": 71,
   "metadata": {},
   "outputs": [],
   "source": [
    "cv_results_df = pd.DataFrame(cv.cv_results_)"
   ]
  },
  {
   "cell_type": "code",
   "execution_count": 72,
   "metadata": {},
   "outputs": [
    {
     "data": {
      "text/html": [
       "<div>\n",
       "<style scoped>\n",
       "    .dataframe tbody tr th:only-of-type {\n",
       "        vertical-align: middle;\n",
       "    }\n",
       "\n",
       "    .dataframe tbody tr th {\n",
       "        vertical-align: top;\n",
       "    }\n",
       "\n",
       "    .dataframe thead th {\n",
       "        text-align: right;\n",
       "    }\n",
       "</style>\n",
       "<table border=\"1\" class=\"dataframe\">\n",
       "  <thead>\n",
       "    <tr style=\"text-align: right;\">\n",
       "      <th></th>\n",
       "      <th>mean_fit_time</th>\n",
       "      <th>std_fit_time</th>\n",
       "      <th>mean_score_time</th>\n",
       "      <th>std_score_time</th>\n",
       "      <th>param_max_depth</th>\n",
       "      <th>params</th>\n",
       "      <th>split0_test_score</th>\n",
       "      <th>split1_test_score</th>\n",
       "      <th>split2_test_score</th>\n",
       "      <th>split3_test_score</th>\n",
       "      <th>...</th>\n",
       "      <th>mean_test_score</th>\n",
       "      <th>std_test_score</th>\n",
       "      <th>rank_test_score</th>\n",
       "      <th>split0_train_score</th>\n",
       "      <th>split1_train_score</th>\n",
       "      <th>split2_train_score</th>\n",
       "      <th>split3_train_score</th>\n",
       "      <th>split4_train_score</th>\n",
       "      <th>mean_train_score</th>\n",
       "      <th>std_train_score</th>\n",
       "    </tr>\n",
       "  </thead>\n",
       "  <tbody>\n",
       "    <tr>\n",
       "      <th>0</th>\n",
       "      <td>0.043366</td>\n",
       "      <td>0.003899</td>\n",
       "      <td>0.004141</td>\n",
       "      <td>0.000543</td>\n",
       "      <td>1</td>\n",
       "      <td>{'max_depth': 1}</td>\n",
       "      <td>0.645438</td>\n",
       "      <td>0.640268</td>\n",
       "      <td>0.649328</td>\n",
       "      <td>0.641357</td>\n",
       "      <td>...</td>\n",
       "      <td>0.645394</td>\n",
       "      <td>0.004121</td>\n",
       "      <td>7</td>\n",
       "      <td>0.645384</td>\n",
       "      <td>0.646675</td>\n",
       "      <td>0.644412</td>\n",
       "      <td>0.646404</td>\n",
       "      <td>0.644098</td>\n",
       "      <td>0.645395</td>\n",
       "      <td>0.001030</td>\n",
       "    </tr>\n",
       "    <tr>\n",
       "      <th>1</th>\n",
       "      <td>0.073905</td>\n",
       "      <td>0.001550</td>\n",
       "      <td>0.003705</td>\n",
       "      <td>0.000314</td>\n",
       "      <td>2</td>\n",
       "      <td>{'max_depth': 2}</td>\n",
       "      <td>0.701537</td>\n",
       "      <td>0.692879</td>\n",
       "      <td>0.697053</td>\n",
       "      <td>0.682113</td>\n",
       "      <td>...</td>\n",
       "      <td>0.694010</td>\n",
       "      <td>0.006554</td>\n",
       "      <td>5</td>\n",
       "      <td>0.692757</td>\n",
       "      <td>0.694134</td>\n",
       "      <td>0.693858</td>\n",
       "      <td>0.697599</td>\n",
       "      <td>0.693275</td>\n",
       "      <td>0.694324</td>\n",
       "      <td>0.001705</td>\n",
       "    </tr>\n",
       "    <tr>\n",
       "      <th>2</th>\n",
       "      <td>0.136444</td>\n",
       "      <td>0.003537</td>\n",
       "      <td>0.003963</td>\n",
       "      <td>0.000398</td>\n",
       "      <td>4</td>\n",
       "      <td>{'max_depth': 4}</td>\n",
       "      <td>0.756114</td>\n",
       "      <td>0.744610</td>\n",
       "      <td>0.764748</td>\n",
       "      <td>0.723234</td>\n",
       "      <td>...</td>\n",
       "      <td>0.745939</td>\n",
       "      <td>0.014136</td>\n",
       "      <td>2</td>\n",
       "      <td>0.755388</td>\n",
       "      <td>0.749543</td>\n",
       "      <td>0.753584</td>\n",
       "      <td>0.755208</td>\n",
       "      <td>0.758278</td>\n",
       "      <td>0.754400</td>\n",
       "      <td>0.002861</td>\n",
       "    </tr>\n",
       "    <tr>\n",
       "      <th>3</th>\n",
       "      <td>0.199449</td>\n",
       "      <td>0.004981</td>\n",
       "      <td>0.003998</td>\n",
       "      <td>0.000307</td>\n",
       "      <td>6</td>\n",
       "      <td>{'max_depth': 6}</td>\n",
       "      <td>0.767616</td>\n",
       "      <td>0.756104</td>\n",
       "      <td>0.762045</td>\n",
       "      <td>0.731850</td>\n",
       "      <td>...</td>\n",
       "      <td>0.752395</td>\n",
       "      <td>0.012847</td>\n",
       "      <td>1</td>\n",
       "      <td>0.782976</td>\n",
       "      <td>0.777297</td>\n",
       "      <td>0.782688</td>\n",
       "      <td>0.783083</td>\n",
       "      <td>0.781349</td>\n",
       "      <td>0.781478</td>\n",
       "      <td>0.002181</td>\n",
       "    </tr>\n",
       "    <tr>\n",
       "      <th>4</th>\n",
       "      <td>0.262924</td>\n",
       "      <td>0.005361</td>\n",
       "      <td>0.004070</td>\n",
       "      <td>0.000382</td>\n",
       "      <td>8</td>\n",
       "      <td>{'max_depth': 8}</td>\n",
       "      <td>0.745150</td>\n",
       "      <td>0.748832</td>\n",
       "      <td>0.744633</td>\n",
       "      <td>0.739786</td>\n",
       "      <td>...</td>\n",
       "      <td>0.743759</td>\n",
       "      <td>0.003333</td>\n",
       "      <td>3</td>\n",
       "      <td>0.814114</td>\n",
       "      <td>0.806063</td>\n",
       "      <td>0.810214</td>\n",
       "      <td>0.815913</td>\n",
       "      <td>0.809872</td>\n",
       "      <td>0.811235</td>\n",
       "      <td>0.003459</td>\n",
       "    </tr>\n",
       "    <tr>\n",
       "      <th>5</th>\n",
       "      <td>0.329105</td>\n",
       "      <td>0.021151</td>\n",
       "      <td>0.004990</td>\n",
       "      <td>0.000988</td>\n",
       "      <td>10</td>\n",
       "      <td>{'max_depth': 10}</td>\n",
       "      <td>0.712245</td>\n",
       "      <td>0.720934</td>\n",
       "      <td>0.721146</td>\n",
       "      <td>0.721612</td>\n",
       "      <td>...</td>\n",
       "      <td>0.715714</td>\n",
       "      <td>0.007412</td>\n",
       "      <td>4</td>\n",
       "      <td>0.850026</td>\n",
       "      <td>0.840385</td>\n",
       "      <td>0.843399</td>\n",
       "      <td>0.850091</td>\n",
       "      <td>0.847122</td>\n",
       "      <td>0.846205</td>\n",
       "      <td>0.003802</td>\n",
       "    </tr>\n",
       "    <tr>\n",
       "      <th>6</th>\n",
       "      <td>0.376583</td>\n",
       "      <td>0.016274</td>\n",
       "      <td>0.004054</td>\n",
       "      <td>0.000346</td>\n",
       "      <td>12</td>\n",
       "      <td>{'max_depth': 12}</td>\n",
       "      <td>0.671339</td>\n",
       "      <td>0.686018</td>\n",
       "      <td>0.684644</td>\n",
       "      <td>0.686968</td>\n",
       "      <td>...</td>\n",
       "      <td>0.675180</td>\n",
       "      <td>0.015222</td>\n",
       "      <td>6</td>\n",
       "      <td>0.889607</td>\n",
       "      <td>0.877927</td>\n",
       "      <td>0.883581</td>\n",
       "      <td>0.886909</td>\n",
       "      <td>0.890382</td>\n",
       "      <td>0.885681</td>\n",
       "      <td>0.004551</td>\n",
       "    </tr>\n",
       "  </tbody>\n",
       "</table>\n",
       "<p>7 rows × 21 columns</p>\n",
       "</div>"
      ],
      "text/plain": [
       "   mean_fit_time  std_fit_time  mean_score_time  std_score_time  \\\n",
       "0       0.043366      0.003899         0.004141        0.000543   \n",
       "1       0.073905      0.001550         0.003705        0.000314   \n",
       "2       0.136444      0.003537         0.003963        0.000398   \n",
       "3       0.199449      0.004981         0.003998        0.000307   \n",
       "4       0.262924      0.005361         0.004070        0.000382   \n",
       "5       0.329105      0.021151         0.004990        0.000988   \n",
       "6       0.376583      0.016274         0.004054        0.000346   \n",
       "\n",
       "  param_max_depth             params  split0_test_score  split1_test_score  \\\n",
       "0               1   {'max_depth': 1}           0.645438           0.640268   \n",
       "1               2   {'max_depth': 2}           0.701537           0.692879   \n",
       "2               4   {'max_depth': 4}           0.756114           0.744610   \n",
       "3               6   {'max_depth': 6}           0.767616           0.756104   \n",
       "4               8   {'max_depth': 8}           0.745150           0.748832   \n",
       "5              10  {'max_depth': 10}           0.712245           0.720934   \n",
       "6              12  {'max_depth': 12}           0.671339           0.686018   \n",
       "\n",
       "   split2_test_score  split3_test_score  ...  mean_test_score  std_test_score  \\\n",
       "0           0.649328           0.641357  ...         0.645394        0.004121   \n",
       "1           0.697053           0.682113  ...         0.694010        0.006554   \n",
       "2           0.764748           0.723234  ...         0.745939        0.014136   \n",
       "3           0.762045           0.731850  ...         0.752395        0.012847   \n",
       "4           0.744633           0.739786  ...         0.743759        0.003333   \n",
       "5           0.721146           0.721612  ...         0.715714        0.007412   \n",
       "6           0.684644           0.686968  ...         0.675180        0.015222   \n",
       "\n",
       "   rank_test_score  split0_train_score  split1_train_score  \\\n",
       "0                7            0.645384            0.646675   \n",
       "1                5            0.692757            0.694134   \n",
       "2                2            0.755388            0.749543   \n",
       "3                1            0.782976            0.777297   \n",
       "4                3            0.814114            0.806063   \n",
       "5                4            0.850026            0.840385   \n",
       "6                6            0.889607            0.877927   \n",
       "\n",
       "   split2_train_score  split3_train_score  split4_train_score  \\\n",
       "0            0.644412            0.646404            0.644098   \n",
       "1            0.693858            0.697599            0.693275   \n",
       "2            0.753584            0.755208            0.758278   \n",
       "3            0.782688            0.783083            0.781349   \n",
       "4            0.810214            0.815913            0.809872   \n",
       "5            0.843399            0.850091            0.847122   \n",
       "6            0.883581            0.886909            0.890382   \n",
       "\n",
       "   mean_train_score  std_train_score  \n",
       "0          0.645395         0.001030  \n",
       "1          0.694324         0.001705  \n",
       "2          0.754400         0.002861  \n",
       "3          0.781478         0.002181  \n",
       "4          0.811235         0.003459  \n",
       "5          0.846205         0.003802  \n",
       "6          0.885681         0.004551  \n",
       "\n",
       "[7 rows x 21 columns]"
      ]
     },
     "execution_count": 72,
     "metadata": {},
     "output_type": "execute_result"
    }
   ],
   "source": [
    "cv_results_df"
   ]
  },
  {
   "cell_type": "code",
   "execution_count": 73,
   "metadata": {},
   "outputs": [
    {
     "data": {
      "text/plain": [
       "Index(['mean_fit_time', 'std_fit_time', 'mean_score_time', 'std_score_time',\n",
       "       'param_max_depth', 'params', 'split0_test_score', 'split1_test_score',\n",
       "       'split2_test_score', 'split3_test_score', 'split4_test_score',\n",
       "       'mean_test_score', 'std_test_score', 'rank_test_score',\n",
       "       'split0_train_score', 'split1_train_score', 'split2_train_score',\n",
       "       'split3_train_score', 'split4_train_score', 'mean_train_score',\n",
       "       'std_train_score'],\n",
       "      dtype='object')"
      ]
     },
     "execution_count": 73,
     "metadata": {},
     "output_type": "execute_result"
    }
   ],
   "source": [
    "cv_results_df.columns"
   ]
  },
  {
   "cell_type": "code",
   "execution_count": 74,
   "metadata": {},
   "outputs": [
    {
     "data": {
      "text/plain": [
       "Text(0, 0.5, 'ROC AUC')"
      ]
     },
     "execution_count": 74,
     "metadata": {},
     "output_type": "execute_result"
    },
    {
     "data": {
      "image/png": "[encoded data removed]",
      "text/plain": [
       "<Figure size 2400x1600 with 1 Axes>"
      ]
     },
     "metadata": {
      "needs_background": "light"
     },
     "output_type": "display_data"
    }
   ],
   "source": [
    "ax = plt.axes()\n",
    "ax.errorbar(cv_results_df['param_max_depth'],\n",
    "            cv_results_df['mean_train_score'],\n",
    "            yerr=cv_results_df['std_train_score'],\n",
    "            label='Mean $\\pm$ 1 SD training scores')\n",
    "ax.errorbar(cv_results_df['param_max_depth'],\n",
    "            cv_results_df['mean_test_score'],\n",
    "            yerr=cv_results_df['std_test_score'],\n",
    "            label='Mean $\\pm$ 1 SD testing scores')\n",
    "ax.legend()\n",
    "plt.xlabel('max_depth')\n",
    "plt.ylabel('ROC AUC')"
   ]
  },
  {
   "cell_type": "code",
   "execution_count": 75,
   "metadata": {},
   "outputs": [
    {
     "data": {
      "text/plain": [
       "mean_fit_time          0.376583\n",
       "std_fit_time           0.021151\n",
       "mean_score_time        0.004990\n",
       "std_score_time         0.000988\n",
       "param_max_depth       12.000000\n",
       "split0_test_score      0.767616\n",
       "split1_test_score      0.756104\n",
       "split2_test_score      0.764748\n",
       "split3_test_score      0.739786\n",
       "split4_test_score      0.744362\n",
       "mean_test_score        0.752395\n",
       "std_test_score         0.015222\n",
       "rank_test_score        7.000000\n",
       "split0_train_score     0.889607\n",
       "split1_train_score     0.877927\n",
       "split2_train_score     0.883581\n",
       "split3_train_score     0.886909\n",
       "split4_train_score     0.890382\n",
       "mean_train_score       0.885681\n",
       "std_train_score        0.004551\n",
       "dtype: float64"
      ]
     },
     "execution_count": 75,
     "metadata": {},
     "output_type": "execute_result"
    }
   ],
   "source": [
    "cv_results_df.max()"
   ]
  },
  {
   "cell_type": "code",
   "execution_count": 76,
   "metadata": {},
   "outputs": [],
   "source": [
    "from sklearn.ensemble import RandomForestClassifier"
   ]
  },
  {
   "cell_type": "markdown",
   "metadata": {},
   "source": [
    "Now you ask Krish to make the CLassifier with the given parameters \n",
    "\n",
    "    (n_estimators=10, criterion='gini', max_depth=3,\n",
    "    min_samples_split=2, min_samples_leaf=1, min_weight_fraction_leaf=0.0,\n",
    "    max_features='auto', max_leaf_nodes=None, min_impurity_decrease=0.0,\n",
    "    min_impurity_split=None, bootstrap=True, oob_score=False, n_jobs=None,\n",
    "    random_state=4, verbose=0, warm_start=False, class_weight=None)"
   ]
  },
  {
   "cell_type": "code",
   "execution_count": 77,
   "metadata": {},
   "outputs": [],
   "source": [
    "rf = RandomForestClassifier\\\n",
    "(n_estimators=10, criterion='gini', max_depth=5,\n",
    "min_samples_split=2, min_samples_leaf=1, min_weight_fraction_leaf=0.0,\n",
    "max_features='auto', max_leaf_nodes=None, min_impurity_decrease=0.0,\n",
    "min_impurity_split=None, bootstrap=True, oob_score=False, n_jobs=None,\n",
    "random_state=4, verbose=0, warm_start=False, class_weight=None)"
   ]
  },
  {
   "cell_type": "code",
   "execution_count": 78,
   "metadata": {},
   "outputs": [],
   "source": [
    "rf_params_ex = {'n_estimators':list(range(1,10,50))}"
   ]
  },
  {
   "cell_type": "markdown",
   "metadata": {},
   "source": [
    "And call the GridSearchCV over the rf"
   ]
  },
  {
   "cell_type": "code",
   "execution_count": 79,
   "metadata": {},
   "outputs": [],
   "source": [
    "cv_rf_ex = GridSearchCV(rf, param_grid=rf_params_ex, scoring='roc_auc',\n",
    "                        n_jobs=None, refit=True, cv=5, verbose=1,\n",
    "                        pre_dispatch=None, error_score=np.nan, return_train_score=True)\n",
    "#5/2020: removed arguments fit_params, iid"
   ]
  },
  {
   "cell_type": "code",
   "execution_count": 80,
   "metadata": {},
   "outputs": [
    {
     "name": "stdout",
     "output_type": "stream",
     "text": [
      "Fitting 5 folds for each of 1 candidates, totalling 5 fits\n"
     ]
    },
    {
     "name": "stderr",
     "output_type": "stream",
     "text": [
      "[Parallel(n_jobs=1)]: Using backend SequentialBackend with 1 concurrent workers.\n",
      "[Parallel(n_jobs=1)]: Done   5 out of   5 | elapsed:    0.2s finished\n"
     ]
    },
    {
     "data": {
      "text/plain": [
       "GridSearchCV(cv=5, error_score=nan,\n",
       "             estimator=RandomForestClassifier(bootstrap=True, ccp_alpha=0.0,\n",
       "                                              class_weight=None,\n",
       "                                              criterion='gini', max_depth=5,\n",
       "                                              max_features='auto',\n",
       "                                              max_leaf_nodes=None,\n",
       "                                              max_samples=None,\n",
       "                                              min_impurity_decrease=0.0,\n",
       "                                              min_impurity_split=None,\n",
       "                                              min_samples_leaf=1,\n",
       "                                              min_samples_split=2,\n",
       "                                              min_weight_fraction_leaf=0.0,\n",
       "                                              n_estimators=10, n_jobs=None,\n",
       "                                              oob_score=False, random_state=4,\n",
       "                                              verbose=0, warm_start=False),\n",
       "             iid='deprecated', n_jobs=None, param_grid={'n_estimators': [1]},\n",
       "             pre_dispatch=None, refit=True, return_train_score=True,\n",
       "             scoring='roc_auc', verbose=1)"
      ]
     },
     "execution_count": 80,
     "metadata": {},
     "output_type": "execute_result"
    }
   ],
   "source": [
    "cv_rf_ex.fit(X_train, y_train)"
   ]
  },
  {
   "cell_type": "markdown",
   "metadata": {},
   "source": [
    "Now, let's check the best parameters and accuracy, and store them and analyse like before"
   ]
  },
  {
   "cell_type": "code",
   "execution_count": 81,
   "metadata": {},
   "outputs": [
    {
     "data": {
      "text/plain": [
       "{'n_estimators': 1}"
      ]
     },
     "execution_count": 81,
     "metadata": {},
     "output_type": "execute_result"
    }
   ],
   "source": [
    "cv_rf_ex.best_params_"
   ]
  },
  {
   "cell_type": "code",
   "execution_count": 82,
   "metadata": {},
   "outputs": [
    {
     "data": {
      "text/plain": [
       "0.7205426495658337"
      ]
     },
     "execution_count": 82,
     "metadata": {},
     "output_type": "execute_result"
    }
   ],
   "source": [
    "cv_rf_ex.best_score_"
   ]
  },
  {
   "cell_type": "code",
   "execution_count": 83,
   "metadata": {},
   "outputs": [],
   "source": [
    "cv_rf_ex_results_df = pd.DataFrame(cv_rf_ex.cv_results_)"
   ]
  },
  {
   "cell_type": "code",
   "execution_count": 84,
   "metadata": {},
   "outputs": [
    {
     "data": {
      "text/html": [
       "<div>\n",
       "<style scoped>\n",
       "    .dataframe tbody tr th:only-of-type {\n",
       "        vertical-align: middle;\n",
       "    }\n",
       "\n",
       "    .dataframe tbody tr th {\n",
       "        vertical-align: top;\n",
       "    }\n",
       "\n",
       "    .dataframe thead th {\n",
       "        text-align: right;\n",
       "    }\n",
       "</style>\n",
       "<table border=\"1\" class=\"dataframe\">\n",
       "  <thead>\n",
       "    <tr style=\"text-align: right;\">\n",
       "      <th></th>\n",
       "      <th>mean_fit_time</th>\n",
       "      <th>std_fit_time</th>\n",
       "      <th>mean_score_time</th>\n",
       "      <th>std_score_time</th>\n",
       "      <th>param_n_estimators</th>\n",
       "      <th>params</th>\n",
       "      <th>split0_test_score</th>\n",
       "      <th>split1_test_score</th>\n",
       "      <th>split2_test_score</th>\n",
       "      <th>split3_test_score</th>\n",
       "      <th>...</th>\n",
       "      <th>mean_test_score</th>\n",
       "      <th>std_test_score</th>\n",
       "      <th>rank_test_score</th>\n",
       "      <th>split0_train_score</th>\n",
       "      <th>split1_train_score</th>\n",
       "      <th>split2_train_score</th>\n",
       "      <th>split3_train_score</th>\n",
       "      <th>split4_train_score</th>\n",
       "      <th>mean_train_score</th>\n",
       "      <th>std_train_score</th>\n",
       "    </tr>\n",
       "  </thead>\n",
       "  <tbody>\n",
       "    <tr>\n",
       "      <th>0</th>\n",
       "      <td>0.030008</td>\n",
       "      <td>0.003822</td>\n",
       "      <td>0.005442</td>\n",
       "      <td>0.001486</td>\n",
       "      <td>1</td>\n",
       "      <td>{'n_estimators': 1}</td>\n",
       "      <td>0.729383</td>\n",
       "      <td>0.727662</td>\n",
       "      <td>0.731939</td>\n",
       "      <td>0.695853</td>\n",
       "      <td>...</td>\n",
       "      <td>0.720543</td>\n",
       "      <td>0.013232</td>\n",
       "      <td>1</td>\n",
       "      <td>0.746325</td>\n",
       "      <td>0.731738</td>\n",
       "      <td>0.731681</td>\n",
       "      <td>0.741525</td>\n",
       "      <td>0.72473</td>\n",
       "      <td>0.7352</td>\n",
       "      <td>0.007717</td>\n",
       "    </tr>\n",
       "  </tbody>\n",
       "</table>\n",
       "<p>1 rows × 21 columns</p>\n",
       "</div>"
      ],
      "text/plain": [
       "   mean_fit_time  std_fit_time  mean_score_time  std_score_time  \\\n",
       "0       0.030008      0.003822         0.005442        0.001486   \n",
       "\n",
       "  param_n_estimators               params  split0_test_score  \\\n",
       "0                  1  {'n_estimators': 1}           0.729383   \n",
       "\n",
       "   split1_test_score  split2_test_score  split3_test_score  ...  \\\n",
       "0           0.727662           0.731939           0.695853  ...   \n",
       "\n",
       "   mean_test_score  std_test_score  rank_test_score  split0_train_score  \\\n",
       "0         0.720543        0.013232                1            0.746325   \n",
       "\n",
       "   split1_train_score  split2_train_score  split3_train_score  \\\n",
       "0            0.731738            0.731681            0.741525   \n",
       "\n",
       "   split4_train_score  mean_train_score  std_train_score  \n",
       "0             0.72473            0.7352         0.007717  \n",
       "\n",
       "[1 rows x 21 columns]"
      ]
     },
     "execution_count": 84,
     "metadata": {},
     "output_type": "execute_result"
    }
   ],
   "source": [
    "cv_rf_ex_results_df"
   ]
  },
  {
   "cell_type": "code",
   "execution_count": 85,
   "metadata": {},
   "outputs": [
    {
     "data": {
      "text/plain": [
       "mean_fit_time                   0.0300077\n",
       "std_fit_time                   0.00382234\n",
       "mean_score_time                0.00544167\n",
       "std_score_time                 0.00148633\n",
       "param_n_estimators                      1\n",
       "params                {'n_estimators': 1}\n",
       "split0_test_score                0.729383\n",
       "split1_test_score                0.727662\n",
       "split2_test_score                0.731939\n",
       "split3_test_score                0.695853\n",
       "split4_test_score                0.717876\n",
       "mean_test_score                  0.720543\n",
       "std_test_score                  0.0132318\n",
       "rank_test_score                         1\n",
       "split0_train_score               0.746325\n",
       "split1_train_score               0.731738\n",
       "split2_train_score               0.731681\n",
       "split3_train_score               0.741525\n",
       "split4_train_score                0.72473\n",
       "mean_train_score                   0.7352\n",
       "std_train_score                0.00771687\n",
       "dtype: object"
      ]
     },
     "execution_count": 85,
     "metadata": {},
     "output_type": "execute_result"
    }
   ],
   "source": [
    "cv_rf_ex_results_df.max()"
   ]
  },
  {
   "cell_type": "markdown",
   "metadata": {},
   "source": [
    "`Interpretation`: We have performed GridSearchCV with just one parameter and analysed it, now we will analyse it using both max_depth and n_estimators.\n"
   ]
  },
  {
   "cell_type": "markdown",
   "metadata": {},
   "source": [
    "#  Cross-Validation Grid Search with Random Forest"
   ]
  },
  {
   "cell_type": "markdown",
   "metadata": {},
   "source": [
    "Here, we create the dictionary for parameters, both max_depth and n_estimators."
   ]
  },
  {
   "cell_type": "code",
   "execution_count": 86,
   "metadata": {},
   "outputs": [],
   "source": [
    "rf_params = {'max_depth':[3, 6, 9, 12],\n",
    "             'n_estimators':[10, 50, 100, 200]}"
   ]
  },
  {
   "cell_type": "markdown",
   "metadata": {},
   "source": [
    "And call the optimisation function here"
   ]
  },
  {
   "cell_type": "code",
   "execution_count": 87,
   "metadata": {},
   "outputs": [],
   "source": [
    "cv_rf = GridSearchCV(rf, param_grid=rf_params, scoring='roc_auc',\n",
    "                  n_jobs=-1, refit=True, cv=4, verbose=2,\n",
    "                  error_score=np.nan, return_train_score=True)\n",
    "#5/2020: removed arguments fit_params, iid"
   ]
  },
  {
   "cell_type": "code",
   "execution_count": 88,
   "metadata": {},
   "outputs": [
    {
     "name": "stdout",
     "output_type": "stream",
     "text": [
      "Fitting 4 folds for each of 16 candidates, totalling 64 fits\n"
     ]
    },
    {
     "name": "stderr",
     "output_type": "stream",
     "text": [
      "[Parallel(n_jobs=-1)]: Using backend LokyBackend with 4 concurrent workers.\n",
      "[Parallel(n_jobs=-1)]: Done  33 tasks      | elapsed:   32.3s\n",
      "[Parallel(n_jobs=-1)]: Done  64 out of  64 | elapsed:  1.4min finished\n"
     ]
    },
    {
     "data": {
      "text/plain": [
       "GridSearchCV(cv=4, error_score=nan,\n",
       "             estimator=RandomForestClassifier(bootstrap=True, ccp_alpha=0.0,\n",
       "                                              class_weight=None,\n",
       "                                              criterion='gini', max_depth=5,\n",
       "                                              max_features='auto',\n",
       "                                              max_leaf_nodes=None,\n",
       "                                              max_samples=None,\n",
       "                                              min_impurity_decrease=0.0,\n",
       "                                              min_impurity_split=None,\n",
       "                                              min_samples_leaf=1,\n",
       "                                              min_samples_split=2,\n",
       "                                              min_weight_fraction_leaf=0.0,\n",
       "                                              n_estimators=10, n_jobs=None,\n",
       "                                              oob_score=False, random_state=4,\n",
       "                                              verbose=0, warm_start=False),\n",
       "             iid='deprecated', n_jobs=-1,\n",
       "             param_grid={'max_depth': [3, 6, 9, 12],\n",
       "                         'n_estimators': [10, 50, 100, 200]},\n",
       "             pre_dispatch='2*n_jobs', refit=True, return_train_score=True,\n",
       "             scoring='roc_auc', verbose=2)"
      ]
     },
     "execution_count": 88,
     "metadata": {},
     "output_type": "execute_result"
    }
   ],
   "source": [
    "cv_rf.fit(X_train, y_train)"
   ]
  },
  {
   "cell_type": "code",
   "execution_count": 89,
   "metadata": {},
   "outputs": [
    {
     "data": {
      "text/plain": [
       "{'max_depth': 9, 'n_estimators': 200}"
      ]
     },
     "execution_count": 89,
     "metadata": {},
     "output_type": "execute_result"
    }
   ],
   "source": [
    "cv_rf.best_params_"
   ]
  },
  {
   "cell_type": "code",
   "execution_count": 90,
   "metadata": {},
   "outputs": [
    {
     "data": {
      "text/plain": [
       "0.7852971047098547"
      ]
     },
     "execution_count": 90,
     "metadata": {},
     "output_type": "execute_result"
    }
   ],
   "source": [
    "cv_rf.best_score_\n"
   ]
  },
  {
   "cell_type": "markdown",
   "metadata": {},
   "source": [
    "`Interpretation`: We have seen how this model gives the maximum accuracy.\n",
    "\n",
    "Now you ask him to store these results in to a dataframe for analysis"
   ]
  },
  {
   "cell_type": "code",
   "execution_count": 91,
   "metadata": {},
   "outputs": [],
   "source": [
    "cv_rf_results_df = pd.DataFrame(cv_rf.cv_results_)"
   ]
  },
  {
   "cell_type": "code",
   "execution_count": 92,
   "metadata": {},
   "outputs": [
    {
     "data": {
      "text/html": [
       "<div>\n",
       "<style scoped>\n",
       "    .dataframe tbody tr th:only-of-type {\n",
       "        vertical-align: middle;\n",
       "    }\n",
       "\n",
       "    .dataframe tbody tr th {\n",
       "        vertical-align: top;\n",
       "    }\n",
       "\n",
       "    .dataframe thead th {\n",
       "        text-align: right;\n",
       "    }\n",
       "</style>\n",
       "<table border=\"1\" class=\"dataframe\">\n",
       "  <thead>\n",
       "    <tr style=\"text-align: right;\">\n",
       "      <th></th>\n",
       "      <th>mean_fit_time</th>\n",
       "      <th>std_fit_time</th>\n",
       "      <th>mean_score_time</th>\n",
       "      <th>std_score_time</th>\n",
       "      <th>param_max_depth</th>\n",
       "      <th>param_n_estimators</th>\n",
       "      <th>params</th>\n",
       "      <th>split0_test_score</th>\n",
       "      <th>split1_test_score</th>\n",
       "      <th>split2_test_score</th>\n",
       "      <th>split3_test_score</th>\n",
       "      <th>mean_test_score</th>\n",
       "      <th>std_test_score</th>\n",
       "      <th>rank_test_score</th>\n",
       "      <th>split0_train_score</th>\n",
       "      <th>split1_train_score</th>\n",
       "      <th>split2_train_score</th>\n",
       "      <th>split3_train_score</th>\n",
       "      <th>mean_train_score</th>\n",
       "      <th>std_train_score</th>\n",
       "    </tr>\n",
       "  </thead>\n",
       "  <tbody>\n",
       "    <tr>\n",
       "      <th>0</th>\n",
       "      <td>0.352706</td>\n",
       "      <td>0.008558</td>\n",
       "      <td>0.013076</td>\n",
       "      <td>0.003433</td>\n",
       "      <td>3</td>\n",
       "      <td>10</td>\n",
       "      <td>{'max_depth': 3, 'n_estimators': 10}</td>\n",
       "      <td>0.767466</td>\n",
       "      <td>0.773940</td>\n",
       "      <td>0.763982</td>\n",
       "      <td>0.767969</td>\n",
       "      <td>0.768339</td>\n",
       "      <td>0.003579</td>\n",
       "      <td>15</td>\n",
       "      <td>0.769703</td>\n",
       "      <td>0.774935</td>\n",
       "      <td>0.777020</td>\n",
       "      <td>0.777186</td>\n",
       "      <td>0.774711</td>\n",
       "      <td>0.003024</td>\n",
       "    </tr>\n",
       "    <tr>\n",
       "      <th>1</th>\n",
       "      <td>1.271938</td>\n",
       "      <td>0.008862</td>\n",
       "      <td>0.061624</td>\n",
       "      <td>0.007468</td>\n",
       "      <td>3</td>\n",
       "      <td>50</td>\n",
       "      <td>{'max_depth': 3, 'n_estimators': 50}</td>\n",
       "      <td>0.776153</td>\n",
       "      <td>0.778571</td>\n",
       "      <td>0.769242</td>\n",
       "      <td>0.773274</td>\n",
       "      <td>0.774310</td>\n",
       "      <td>0.003475</td>\n",
       "      <td>14</td>\n",
       "      <td>0.777418</td>\n",
       "      <td>0.777943</td>\n",
       "      <td>0.780283</td>\n",
       "      <td>0.781283</td>\n",
       "      <td>0.779232</td>\n",
       "      <td>0.001602</td>\n",
       "    </tr>\n",
       "    <tr>\n",
       "      <th>2</th>\n",
       "      <td>3.197510</td>\n",
       "      <td>0.020523</td>\n",
       "      <td>0.105654</td>\n",
       "      <td>0.005711</td>\n",
       "      <td>3</td>\n",
       "      <td>100</td>\n",
       "      <td>{'max_depth': 3, 'n_estimators': 100}</td>\n",
       "      <td>0.778979</td>\n",
       "      <td>0.779933</td>\n",
       "      <td>0.770593</td>\n",
       "      <td>0.776061</td>\n",
       "      <td>0.776391</td>\n",
       "      <td>0.003639</td>\n",
       "      <td>11</td>\n",
       "      <td>0.780532</td>\n",
       "      <td>0.779569</td>\n",
       "      <td>0.782689</td>\n",
       "      <td>0.782813</td>\n",
       "      <td>0.781401</td>\n",
       "      <td>0.001393</td>\n",
       "    </tr>\n",
       "    <tr>\n",
       "      <th>3</th>\n",
       "      <td>4.597367</td>\n",
       "      <td>0.111135</td>\n",
       "      <td>0.190940</td>\n",
       "      <td>0.053721</td>\n",
       "      <td>3</td>\n",
       "      <td>200</td>\n",
       "      <td>{'max_depth': 3, 'n_estimators': 200}</td>\n",
       "      <td>0.779475</td>\n",
       "      <td>0.780755</td>\n",
       "      <td>0.770770</td>\n",
       "      <td>0.776099</td>\n",
       "      <td>0.776775</td>\n",
       "      <td>0.003861</td>\n",
       "      <td>10</td>\n",
       "      <td>0.781255</td>\n",
       "      <td>0.780084</td>\n",
       "      <td>0.782449</td>\n",
       "      <td>0.782647</td>\n",
       "      <td>0.781609</td>\n",
       "      <td>0.001029</td>\n",
       "    </tr>\n",
       "    <tr>\n",
       "      <th>4</th>\n",
       "      <td>0.420333</td>\n",
       "      <td>0.019831</td>\n",
       "      <td>0.023341</td>\n",
       "      <td>0.009934</td>\n",
       "      <td>6</td>\n",
       "      <td>10</td>\n",
       "      <td>{'max_depth': 6, 'n_estimators': 10}</td>\n",
       "      <td>0.782961</td>\n",
       "      <td>0.779289</td>\n",
       "      <td>0.766296</td>\n",
       "      <td>0.775436</td>\n",
       "      <td>0.775996</td>\n",
       "      <td>0.006200</td>\n",
       "      <td>12</td>\n",
       "      <td>0.801644</td>\n",
       "      <td>0.799707</td>\n",
       "      <td>0.802721</td>\n",
       "      <td>0.802966</td>\n",
       "      <td>0.801759</td>\n",
       "      <td>0.001285</td>\n",
       "    </tr>\n",
       "    <tr>\n",
       "      <th>5</th>\n",
       "      <td>2.783190</td>\n",
       "      <td>0.010083</td>\n",
       "      <td>0.083196</td>\n",
       "      <td>0.023595</td>\n",
       "      <td>6</td>\n",
       "      <td>50</td>\n",
       "      <td>{'max_depth': 6, 'n_estimators': 50}</td>\n",
       "      <td>0.785930</td>\n",
       "      <td>0.785598</td>\n",
       "      <td>0.775756</td>\n",
       "      <td>0.779589</td>\n",
       "      <td>0.781718</td>\n",
       "      <td>0.004268</td>\n",
       "      <td>8</td>\n",
       "      <td>0.804972</td>\n",
       "      <td>0.804529</td>\n",
       "      <td>0.806711</td>\n",
       "      <td>0.806754</td>\n",
       "      <td>0.805742</td>\n",
       "      <td>0.001003</td>\n",
       "    </tr>\n",
       "    <tr>\n",
       "      <th>6</th>\n",
       "      <td>4.032539</td>\n",
       "      <td>0.032882</td>\n",
       "      <td>0.067471</td>\n",
       "      <td>0.002979</td>\n",
       "      <td>6</td>\n",
       "      <td>100</td>\n",
       "      <td>{'max_depth': 6, 'n_estimators': 100}</td>\n",
       "      <td>0.786771</td>\n",
       "      <td>0.787328</td>\n",
       "      <td>0.776860</td>\n",
       "      <td>0.780918</td>\n",
       "      <td>0.782969</td>\n",
       "      <td>0.004330</td>\n",
       "      <td>6</td>\n",
       "      <td>0.806017</td>\n",
       "      <td>0.805706</td>\n",
       "      <td>0.807580</td>\n",
       "      <td>0.807733</td>\n",
       "      <td>0.806759</td>\n",
       "      <td>0.000906</td>\n",
       "    </tr>\n",
       "    <tr>\n",
       "      <th>7</th>\n",
       "      <td>8.691703</td>\n",
       "      <td>0.093387</td>\n",
       "      <td>0.170849</td>\n",
       "      <td>0.048995</td>\n",
       "      <td>6</td>\n",
       "      <td>200</td>\n",
       "      <td>{'max_depth': 6, 'n_estimators': 200}</td>\n",
       "      <td>0.787242</td>\n",
       "      <td>0.787552</td>\n",
       "      <td>0.777382</td>\n",
       "      <td>0.781159</td>\n",
       "      <td>0.783334</td>\n",
       "      <td>0.004279</td>\n",
       "      <td>5</td>\n",
       "      <td>0.807010</td>\n",
       "      <td>0.806812</td>\n",
       "      <td>0.808933</td>\n",
       "      <td>0.808385</td>\n",
       "      <td>0.807785</td>\n",
       "      <td>0.000898</td>\n",
       "    </tr>\n",
       "    <tr>\n",
       "      <th>8</th>\n",
       "      <td>0.549840</td>\n",
       "      <td>0.020527</td>\n",
       "      <td>0.020999</td>\n",
       "      <td>0.002103</td>\n",
       "      <td>9</td>\n",
       "      <td>10</td>\n",
       "      <td>{'max_depth': 9, 'n_estimators': 10}</td>\n",
       "      <td>0.774837</td>\n",
       "      <td>0.784269</td>\n",
       "      <td>0.766292</td>\n",
       "      <td>0.773801</td>\n",
       "      <td>0.774800</td>\n",
       "      <td>0.006384</td>\n",
       "      <td>13</td>\n",
       "      <td>0.850163</td>\n",
       "      <td>0.851390</td>\n",
       "      <td>0.851273</td>\n",
       "      <td>0.856870</td>\n",
       "      <td>0.852424</td>\n",
       "      <td>0.002611</td>\n",
       "    </tr>\n",
       "    <tr>\n",
       "      <th>9</th>\n",
       "      <td>2.750113</td>\n",
       "      <td>0.041603</td>\n",
       "      <td>0.057167</td>\n",
       "      <td>0.015742</td>\n",
       "      <td>9</td>\n",
       "      <td>50</td>\n",
       "      <td>{'max_depth': 9, 'n_estimators': 50}</td>\n",
       "      <td>0.786262</td>\n",
       "      <td>0.790453</td>\n",
       "      <td>0.778592</td>\n",
       "      <td>0.779150</td>\n",
       "      <td>0.783614</td>\n",
       "      <td>0.004973</td>\n",
       "      <td>4</td>\n",
       "      <td>0.860785</td>\n",
       "      <td>0.860872</td>\n",
       "      <td>0.862617</td>\n",
       "      <td>0.862486</td>\n",
       "      <td>0.861690</td>\n",
       "      <td>0.000863</td>\n",
       "    </tr>\n",
       "    <tr>\n",
       "      <th>10</th>\n",
       "      <td>4.956248</td>\n",
       "      <td>0.045496</td>\n",
       "      <td>0.099362</td>\n",
       "      <td>0.007247</td>\n",
       "      <td>9</td>\n",
       "      <td>100</td>\n",
       "      <td>{'max_depth': 9, 'n_estimators': 100}</td>\n",
       "      <td>0.787330</td>\n",
       "      <td>0.789706</td>\n",
       "      <td>0.780543</td>\n",
       "      <td>0.781260</td>\n",
       "      <td>0.784710</td>\n",
       "      <td>0.003908</td>\n",
       "      <td>2</td>\n",
       "      <td>0.862914</td>\n",
       "      <td>0.863537</td>\n",
       "      <td>0.863813</td>\n",
       "      <td>0.864362</td>\n",
       "      <td>0.863656</td>\n",
       "      <td>0.000521</td>\n",
       "    </tr>\n",
       "    <tr>\n",
       "      <th>11</th>\n",
       "      <td>14.540568</td>\n",
       "      <td>0.039586</td>\n",
       "      <td>0.282590</td>\n",
       "      <td>0.006994</td>\n",
       "      <td>9</td>\n",
       "      <td>200</td>\n",
       "      <td>{'max_depth': 9, 'n_estimators': 200}</td>\n",
       "      <td>0.788523</td>\n",
       "      <td>0.789860</td>\n",
       "      <td>0.781366</td>\n",
       "      <td>0.781440</td>\n",
       "      <td>0.785297</td>\n",
       "      <td>0.003923</td>\n",
       "      <td>1</td>\n",
       "      <td>0.863831</td>\n",
       "      <td>0.865512</td>\n",
       "      <td>0.864583</td>\n",
       "      <td>0.865369</td>\n",
       "      <td>0.864823</td>\n",
       "      <td>0.000673</td>\n",
       "    </tr>\n",
       "    <tr>\n",
       "      <th>12</th>\n",
       "      <td>0.920542</td>\n",
       "      <td>0.014783</td>\n",
       "      <td>0.025276</td>\n",
       "      <td>0.004010</td>\n",
       "      <td>12</td>\n",
       "      <td>10</td>\n",
       "      <td>{'max_depth': 12, 'n_estimators': 10}</td>\n",
       "      <td>0.765013</td>\n",
       "      <td>0.775418</td>\n",
       "      <td>0.765684</td>\n",
       "      <td>0.766895</td>\n",
       "      <td>0.768253</td>\n",
       "      <td>0.004192</td>\n",
       "      <td>16</td>\n",
       "      <td>0.917728</td>\n",
       "      <td>0.914143</td>\n",
       "      <td>0.916363</td>\n",
       "      <td>0.910279</td>\n",
       "      <td>0.914628</td>\n",
       "      <td>0.002818</td>\n",
       "    </tr>\n",
       "    <tr>\n",
       "      <th>13</th>\n",
       "      <td>3.005283</td>\n",
       "      <td>0.046397</td>\n",
       "      <td>0.053420</td>\n",
       "      <td>0.001607</td>\n",
       "      <td>12</td>\n",
       "      <td>50</td>\n",
       "      <td>{'max_depth': 12, 'n_estimators': 50}</td>\n",
       "      <td>0.783383</td>\n",
       "      <td>0.786988</td>\n",
       "      <td>0.777659</td>\n",
       "      <td>0.776466</td>\n",
       "      <td>0.781124</td>\n",
       "      <td>0.004278</td>\n",
       "      <td>9</td>\n",
       "      <td>0.934053</td>\n",
       "      <td>0.929022</td>\n",
       "      <td>0.931332</td>\n",
       "      <td>0.931829</td>\n",
       "      <td>0.931559</td>\n",
       "      <td>0.001788</td>\n",
       "    </tr>\n",
       "    <tr>\n",
       "      <th>14</th>\n",
       "      <td>5.712277</td>\n",
       "      <td>0.022820</td>\n",
       "      <td>0.106548</td>\n",
       "      <td>0.003510</td>\n",
       "      <td>12</td>\n",
       "      <td>100</td>\n",
       "      <td>{'max_depth': 12, 'n_estimators': 100}</td>\n",
       "      <td>0.784379</td>\n",
       "      <td>0.787370</td>\n",
       "      <td>0.779528</td>\n",
       "      <td>0.778051</td>\n",
       "      <td>0.782332</td>\n",
       "      <td>0.003734</td>\n",
       "      <td>7</td>\n",
       "      <td>0.935864</td>\n",
       "      <td>0.934685</td>\n",
       "      <td>0.933526</td>\n",
       "      <td>0.936052</td>\n",
       "      <td>0.935032</td>\n",
       "      <td>0.001015</td>\n",
       "    </tr>\n",
       "    <tr>\n",
       "      <th>15</th>\n",
       "      <td>17.035398</td>\n",
       "      <td>0.102084</td>\n",
       "      <td>0.255608</td>\n",
       "      <td>0.044148</td>\n",
       "      <td>12</td>\n",
       "      <td>200</td>\n",
       "      <td>{'max_depth': 12, 'n_estimators': 200}</td>\n",
       "      <td>0.786437</td>\n",
       "      <td>0.787950</td>\n",
       "      <td>0.780580</td>\n",
       "      <td>0.779713</td>\n",
       "      <td>0.783670</td>\n",
       "      <td>0.003577</td>\n",
       "      <td>3</td>\n",
       "      <td>0.939186</td>\n",
       "      <td>0.937329</td>\n",
       "      <td>0.936197</td>\n",
       "      <td>0.937289</td>\n",
       "      <td>0.937500</td>\n",
       "      <td>0.001074</td>\n",
       "    </tr>\n",
       "  </tbody>\n",
       "</table>\n",
       "</div>"
      ],
      "text/plain": [
       "    mean_fit_time  std_fit_time  mean_score_time  std_score_time  \\\n",
       "0        0.352706      0.008558         0.013076        0.003433   \n",
       "1        1.271938      0.008862         0.061624        0.007468   \n",
       "2        3.197510      0.020523         0.105654        0.005711   \n",
       "3        4.597367      0.111135         0.190940        0.053721   \n",
       "4        0.420333      0.019831         0.023341        0.009934   \n",
       "5        2.783190      0.010083         0.083196        0.023595   \n",
       "6        4.032539      0.032882         0.067471        0.002979   \n",
       "7        8.691703      0.093387         0.170849        0.048995   \n",
       "8        0.549840      0.020527         0.020999        0.002103   \n",
       "9        2.750113      0.041603         0.057167        0.015742   \n",
       "10       4.956248      0.045496         0.099362        0.007247   \n",
       "11      14.540568      0.039586         0.282590        0.006994   \n",
       "12       0.920542      0.014783         0.025276        0.004010   \n",
       "13       3.005283      0.046397         0.053420        0.001607   \n",
       "14       5.712277      0.022820         0.106548        0.003510   \n",
       "15      17.035398      0.102084         0.255608        0.044148   \n",
       "\n",
       "   param_max_depth param_n_estimators                                  params  \\\n",
       "0                3                 10    {'max_depth': 3, 'n_estimators': 10}   \n",
       "1                3                 50    {'max_depth': 3, 'n_estimators': 50}   \n",
       "2                3                100   {'max_depth': 3, 'n_estimators': 100}   \n",
       "3                3                200   {'max_depth': 3, 'n_estimators': 200}   \n",
       "4                6                 10    {'max_depth': 6, 'n_estimators': 10}   \n",
       "5                6                 50    {'max_depth': 6, 'n_estimators': 50}   \n",
       "6                6                100   {'max_depth': 6, 'n_estimators': 100}   \n",
       "7                6                200   {'max_depth': 6, 'n_estimators': 200}   \n",
       "8                9                 10    {'max_depth': 9, 'n_estimators': 10}   \n",
       "9                9                 50    {'max_depth': 9, 'n_estimators': 50}   \n",
       "10               9                100   {'max_depth': 9, 'n_estimators': 100}   \n",
       "11               9                200   {'max_depth': 9, 'n_estimators': 200}   \n",
       "12              12                 10   {'max_depth': 12, 'n_estimators': 10}   \n",
       "13              12                 50   {'max_depth': 12, 'n_estimators': 50}   \n",
       "14              12                100  {'max_depth': 12, 'n_estimators': 100}   \n",
       "15              12                200  {'max_depth': 12, 'n_estimators': 200}   \n",
       "\n",
       "    split0_test_score  split1_test_score  split2_test_score  \\\n",
       "0            0.767466           0.773940           0.763982   \n",
       "1            0.776153           0.778571           0.769242   \n",
       "2            0.778979           0.779933           0.770593   \n",
       "3            0.779475           0.780755           0.770770   \n",
       "4            0.782961           0.779289           0.766296   \n",
       "5            0.785930           0.785598           0.775756   \n",
       "6            0.786771           0.787328           0.776860   \n",
       "7            0.787242           0.787552           0.777382   \n",
       "8            0.774837           0.784269           0.766292   \n",
       "9            0.786262           0.790453           0.778592   \n",
       "10           0.787330           0.789706           0.780543   \n",
       "11           0.788523           0.789860           0.781366   \n",
       "12           0.765013           0.775418           0.765684   \n",
       "13           0.783383           0.786988           0.777659   \n",
       "14           0.784379           0.787370           0.779528   \n",
       "15           0.786437           0.787950           0.780580   \n",
       "\n",
       "    split3_test_score  mean_test_score  std_test_score  rank_test_score  \\\n",
       "0            0.767969         0.768339        0.003579               15   \n",
       "1            0.773274         0.774310        0.003475               14   \n",
       "2            0.776061         0.776391        0.003639               11   \n",
       "3            0.776099         0.776775        0.003861               10   \n",
       "4            0.775436         0.775996        0.006200               12   \n",
       "5            0.779589         0.781718        0.004268                8   \n",
       "6            0.780918         0.782969        0.004330                6   \n",
       "7            0.781159         0.783334        0.004279                5   \n",
       "8            0.773801         0.774800        0.006384               13   \n",
       "9            0.779150         0.783614        0.004973                4   \n",
       "10           0.781260         0.784710        0.003908                2   \n",
       "11           0.781440         0.785297        0.003923                1   \n",
       "12           0.766895         0.768253        0.004192               16   \n",
       "13           0.776466         0.781124        0.004278                9   \n",
       "14           0.778051         0.782332        0.003734                7   \n",
       "15           0.779713         0.783670        0.003577                3   \n",
       "\n",
       "    split0_train_score  split1_train_score  split2_train_score  \\\n",
       "0             0.769703            0.774935            0.777020   \n",
       "1             0.777418            0.777943            0.780283   \n",
       "2             0.780532            0.779569            0.782689   \n",
       "3             0.781255            0.780084            0.782449   \n",
       "4             0.801644            0.799707            0.802721   \n",
       "5             0.804972            0.804529            0.806711   \n",
       "6             0.806017            0.805706            0.807580   \n",
       "7             0.807010            0.806812            0.808933   \n",
       "8             0.850163            0.851390            0.851273   \n",
       "9             0.860785            0.860872            0.862617   \n",
       "10            0.862914            0.863537            0.863813   \n",
       "11            0.863831            0.865512            0.864583   \n",
       "12            0.917728            0.914143            0.916363   \n",
       "13            0.934053            0.929022            0.931332   \n",
       "14            0.935864            0.934685            0.933526   \n",
       "15            0.939186            0.937329            0.936197   \n",
       "\n",
       "    split3_train_score  mean_train_score  std_train_score  \n",
       "0             0.777186          0.774711         0.003024  \n",
       "1             0.781283          0.779232         0.001602  \n",
       "2             0.782813          0.781401         0.001393  \n",
       "3             0.782647          0.781609         0.001029  \n",
       "4             0.802966          0.801759         0.001285  \n",
       "5             0.806754          0.805742         0.001003  \n",
       "6             0.807733          0.806759         0.000906  \n",
       "7             0.808385          0.807785         0.000898  \n",
       "8             0.856870          0.852424         0.002611  \n",
       "9             0.862486          0.861690         0.000863  \n",
       "10            0.864362          0.863656         0.000521  \n",
       "11            0.865369          0.864823         0.000673  \n",
       "12            0.910279          0.914628         0.002818  \n",
       "13            0.931829          0.931559         0.001788  \n",
       "14            0.936052          0.935032         0.001015  \n",
       "15            0.937289          0.937500         0.001074  "
      ]
     },
     "execution_count": 92,
     "metadata": {},
     "output_type": "execute_result"
    }
   ],
   "source": [
    "cv_rf_results_df"
   ]
  },
  {
   "cell_type": "code",
   "execution_count": 93,
   "metadata": {},
   "outputs": [
    {
     "data": {
      "text/plain": [
       "mean_fit_time          17.035398\n",
       "std_fit_time            0.111135\n",
       "mean_score_time         0.282590\n",
       "std_score_time          0.053721\n",
       "param_max_depth        12.000000\n",
       "param_n_estimators    200.000000\n",
       "split0_test_score       0.788523\n",
       "split1_test_score       0.790453\n",
       "split2_test_score       0.781366\n",
       "split3_test_score       0.781440\n",
       "mean_test_score         0.785297\n",
       "std_test_score          0.006384\n",
       "rank_test_score        16.000000\n",
       "split0_train_score      0.939186\n",
       "split1_train_score      0.937329\n",
       "split2_train_score      0.936197\n",
       "split3_train_score      0.937289\n",
       "mean_train_score        0.937500\n",
       "std_train_score         0.003024\n",
       "dtype: float64"
      ]
     },
     "execution_count": 93,
     "metadata": {},
     "output_type": "execute_result"
    }
   ],
   "source": [
    "cv_rf_results_df.max()"
   ]
  },
  {
   "cell_type": "markdown",
   "metadata": {},
   "source": [
    "`Interpretation`: Looks like, from max_depth = 3, 6, 9, 12... 9 is best. The more trees the better."
   ]
  },
  {
   "cell_type": "code",
   "execution_count": 94,
   "metadata": {},
   "outputs": [
    {
     "data": {
      "text/plain": [
       "{'max_depth': 9, 'n_estimators': 200}"
      ]
     },
     "execution_count": 94,
     "metadata": {},
     "output_type": "execute_result"
    }
   ],
   "source": [
    "cv_rf.best_params_"
   ]
  },
  {
   "cell_type": "markdown",
   "metadata": {},
   "source": [
    "Now, finally, you ask Krish to store thee feature importances un a dataframe using \n",
    "\n",
    "    pd.DataFrame({\n",
    "    'Feature name':features_response[:-1],\n",
    "    'Importance':cv_rf.best_estimator_.feature_importances_\n",
    "    })"
   ]
  },
  {
   "cell_type": "code",
   "execution_count": 95,
   "metadata": {},
   "outputs": [
    {
     "ename": "NameError",
     "evalue": "name 'features_response' is not defined",
     "output_type": "error",
     "traceback": [
      "\u001b[0;31m---------------------------------------------------------------------------\u001b[0m",
      "\u001b[0;31mNameError\u001b[0m                                 Traceback (most recent call last)",
      "\u001b[0;32m<ipython-input-95-5cdca573e9fd>\u001b[0m in \u001b[0;36m<module>\u001b[0;34m\u001b[0m\n\u001b[1;32m      1\u001b[0m feat_imp_df_act = pd.DataFrame({\n\u001b[0;32m----> 2\u001b[0;31m     \u001b[0;34m'Feature name'\u001b[0m\u001b[0;34m:\u001b[0m\u001b[0mfeatures_response\u001b[0m\u001b[0;34m[\u001b[0m\u001b[0;34m:\u001b[0m\u001b[0;34m-\u001b[0m\u001b[0;36m1\u001b[0m\u001b[0;34m]\u001b[0m\u001b[0;34m,\u001b[0m\u001b[0;34m\u001b[0m\u001b[0;34m\u001b[0m\u001b[0m\n\u001b[0m\u001b[1;32m      3\u001b[0m     \u001b[0;34m'Importance'\u001b[0m\u001b[0;34m:\u001b[0m\u001b[0mcv_rf\u001b[0m\u001b[0;34m.\u001b[0m\u001b[0mbest_estimator_\u001b[0m\u001b[0;34m.\u001b[0m\u001b[0mfeature_importances_\u001b[0m\u001b[0;34m\u001b[0m\u001b[0;34m\u001b[0m\u001b[0m\n\u001b[1;32m      4\u001b[0m })\n",
      "\u001b[0;31mNameError\u001b[0m: name 'features_response' is not defined"
     ]
    }
   ],
   "source": [
    "feat_imp_df_act = pd.DataFrame({\n",
    "    'Feature name':features_response[:-1],\n",
    "    'Importance':cv_rf.best_estimator_.feature_importances_\n",
    "})"
   ]
  },
  {
   "cell_type": "markdown",
   "metadata": {},
   "source": [
    "And display their values in dessending order (Highest first)"
   ]
  },
  {
   "cell_type": "code",
   "execution_count": null,
   "metadata": {},
   "outputs": [],
   "source": [
    "feat_imp_df_act.sort_values('Importance', ascending=False)"
   ]
  },
  {
   "cell_type": "markdown",
   "metadata": {},
   "source": [
    "# Conclusion\n",
    "\n",
    "We have anaylysed our decision tree model to predict whether the person will be a defaulter ot not.\n",
    "\n",
    "We can conclude the following:\n",
    "\n",
    "Pros\n",
    "\n",
    "    Decision trees are easy to interpret and visualize.\n",
    "    It can easily capture Non-linear patterns.\n",
    "    It requires fewer data preprocessing from the user, for example, there is no need to normalize columns.\n",
    "    It can be used for feature engineering such as predicting missing values, suitable for variable selection.\n",
    "    The decision tree has no assumptions about distribution because of the non-parametric nature of the algorithm. (Source)\n",
    "\n",
    "Cons\n",
    "\n",
    "    Sensitive to noisy data. It can overfit noisy data.\n",
    "    The small variation(or variance) in data can result in the different decision tree. This can be reduced by bagging and boosting algorithms.\n",
    "    Decision trees are biased with imbalance dataset, so it is recommended that balance out the dataset before creating the decision tree.\n"
   ]
  },
  {
   "cell_type": "code",
   "execution_count": null,
   "metadata": {},
   "outputs": [],
   "source": []
  },
  {
   "cell_type": "code",
   "execution_count": null,
   "metadata": {},
   "outputs": [],
   "source": []
  },
  {
   "cell_type": "code",
   "execution_count": null,
   "metadata": {},
   "outputs": [],
   "source": []
  }
 ],
 "metadata": {
  "kernelspec": {
   "display_name": "Python 3",
   "language": "python",
   "name": "python3"
  },
  "language_info": {
   "codemirror_mode": {
    "name": "ipython",
    "version": 3
   },
   "file_extension": ".py",
   "mimetype": "text/x-python",
   "name": "python",
   "nbconvert_exporter": "python",
   "pygments_lexer": "ipython3",
   "version": "3.7.6"
  }
 },
 "nbformat": 4,
 "nbformat_minor": 2
}
